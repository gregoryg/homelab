{
 "cells": [
  {
   "cell_type": "code",
   "execution_count": 1,
   "id": "9c9877c2-dd41-443c-8c40-30ea916a8faa",
   "metadata": {},
   "outputs": [],
   "source": [
    "import findspark\n",
    "findspark.init()\n",
    "\n",
    "import pyspark\n",
    "import random\n",
    "\n",
    "import os\n",
    "os.environ['PYSPARK_SUBMIT_ARGS'] = '--jars /opt/spark/user-jars/tg-jdbc-driver-1.2.jar pyspark-shell'\n"
   ]
  },
  {
   "cell_type": "code",
   "execution_count": 2,
   "id": "a3fad6ff-44e1-4215-80af-3ac431f92d12",
   "metadata": {},
   "outputs": [],
   "source": [
    "from pyspark.sql import SparkSession\n",
    "from pyspark.sql.types import StructType, StructField\n",
    "from pyspark.sql.types import StringType, IntegerType\n"
   ]
  },
  {
   "cell_type": "code",
   "execution_count": 3,
   "id": "2f37436d-27bd-4615-b28c-5fd64069afe9",
   "metadata": {},
   "outputs": [],
   "source": [
    "spark = SparkSession.builder.appName(\"TigerGraphAnalysis\").getOrCreate()"
   ]
  },
  {
   "cell_type": "code",
   "execution_count": 4,
   "id": "09e2f47d-514f-4eb4-8d25-48e89ca24568",
   "metadata": {},
   "outputs": [
    {
     "name": "stdout",
     "output_type": "stream",
     "text": [
      "+-----+----------+----------+-------------------+-------------------+-------------------+-------+-------+--------------------+--------------------+-----------+----------+--------------+-----------+-----------+----------------+-----------+------------+\n",
      "| v_id|CustomerID|EmployeeID|          OrderDate|       RequiredDate|        ShippedDate|ShipVia|Freight|            ShipName|         ShipAddress|   ShipCity|ShipRegion|ShipPostalCode|ShipCountry|OrderAmount|CommissionAmount|fraud_score|ReturnedDate|\n",
      "+-----+----------+----------+-------------------+-------------------+-------------------+-------+-------+--------------------+--------------------+-----------+----------+--------------+-----------+-----------+----------------+-----------+------------+\n",
      "|11077|     RATTC|         1|1998-05-06 00:00:00|1998-06-03 00:00:00|1970-01-01 00:00:00|      2|   8.53|Rattlesnake Canyo...|     2817 Milton Dr.|Albuquerque|        NM|         87110|        USA|  1255.7205|           62.79|        0.0|            |\n",
      "|10576|     TORTU|         3|1997-06-23 00:00:00|1997-07-07 00:00:00|1997-06-30 00:00:00|      3|  18.56| Tortuga Restaurante|    Avda. Azteca 123|México D.F.|          |          5033|     Mexico|     838.45|           41.92|        0.0|            |\n",
      "|10568|     GALED|         3|1997-06-13 00:00:00|1997-07-11 00:00:00|1997-07-09 00:00:00|      3|   6.54|Galería del gastr...|Rambla de Cataluñ...|  Barcelona|          |          8022|      Spain|      155.0|             0.0|        0.0|            |\n",
      "|10571|     ERNSH|         8|1997-06-17 00:00:00|1997-07-29 00:00:00|1997-07-04 00:00:00|      3|  26.06|        Ernst Handel|        Kirchgasse 6|       Graz|          |          8010|    Austria|   550.5875|           27.53|        0.0|            |\n",
      "|11038|     SUPRD|         1|1998-04-21 00:00:00|1998-05-19 00:00:00|1998-04-30 00:00:00|      2|  29.59|    Suprêmes délices| Boulevard Tirou 255|  Charleroi|          |        B-6000|    Belgium|      732.6|             0.0|        0.0|            |\n",
      "|10696|     WHITC|         8|1997-10-08 00:00:00|1997-11-19 00:00:00|1997-10-14 00:00:00|      3| 102.55|White Clover Markets| 1029 - 12th Ave. S.|    Seattle|        WA|         98124|        USA|      996.0|             0.0|        0.0|            |\n",
      "|10441|     OLDWO|         3|1997-02-10 00:00:00|1997-03-24 00:00:00|1997-03-14 00:00:00|      2|  73.02|Old World Delicat...|     2743 Bering St.|  Anchorage|        AK|         99508|        USA|     1755.0|             0.0|        0.0|            |\n",
      "|10572|     BERGS|         3|1997-06-18 00:00:00|1997-07-16 00:00:00|1997-06-25 00:00:00|      2| 116.43|  Berglunds snabbköp|     Berguvsvägen  8|      Luleå|          |      S-958 22|     Sweden|   1501.085|           75.05|        0.0|            |\n",
      "|10393|     SAVEA|         1|1996-12-25 00:00:00|1997-01-22 00:00:00|1997-01-03 00:00:00|      3| 126.56|  Save-a-lot Markets|     187 Suffolk Ln.|      Boise|        ID|         83720|        USA|    2556.95|          127.85|        0.0|            |\n",
      "|11004|     MAISD|         3|1998-04-07 00:00:00|1998-05-05 00:00:00|1998-04-20 00:00:00|      1|  44.84|        Maison Dewey| Rue Joseph-Bens 532|  Bruxelles|          |        B-1180|    Belgium|     295.38|             0.0|        0.0|            |\n",
      "+-----+----------+----------+-------------------+-------------------+-------------------+-------+-------+--------------------+--------------------+-----------+----------+--------------+-----------+-----------+----------------+-----------+------------+\n",
      "\n"
     ]
    }
   ],
   "source": [
    "jdbcDF = spark.read \\\n",
    "  .format(\"jdbc\") \\\n",
    "  .option(\"driver\", \"com.tigergraph.jdbc.Driver\") \\\n",
    "  .option(\"url\", \"jdbc:tg:http://protomolecule.magichome:32176\") \\\n",
    "  .option(\"user\", \"tigergraph\") \\\n",
    "  .option(\"password\", \"Tigergraph\") \\\n",
    "  .option(\"graph\", \"Northwind\") \\\n",
    "  .option(\"dbtable\", \"vertex Orders\") \\\n",
    "  .option(\"limit\", \"10\") \\\n",
    "  .option(\"debug\", \"0\") \\\n",
    "  .load()\n",
    "\n",
    "jdbcDF.show()\n"
   ]
  }
 ],
 "metadata": {
  "kernelspec": {
   "display_name": "Python 3",
   "language": "python",
   "name": "python3"
  },
  "language_info": {
   "codemirror_mode": {
    "name": "ipython",
    "version": 3
   },
   "file_extension": ".py",
   "mimetype": "text/x-python",
   "name": "python",
   "nbconvert_exporter": "python",
   "pygments_lexer": "ipython3",
   "version": "3.9.5"
  }
 },
 "nbformat": 4,
 "nbformat_minor": 5
}
