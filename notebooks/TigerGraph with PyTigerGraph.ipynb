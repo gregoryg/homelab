{
 "cells": [
  {
   "cell_type": "markdown",
   "id": "4df3f637-6e2a-40f1-9d6a-06c2b09c0318",
   "metadata": {},
   "source": [
    "# Using PyTigerGraph with Jupyter Notebook\n",
    "\n",
    "`pyTigerGraph` is a Python library that initiates a secure connection with a TigerGraph REST++ API server.  Among many other actions, this connection allows arbitrary GSQL command execution, as allowed by your user's RBAC privileges.\n",
    "\n",
    "\n",
    "First install `pyTigerGraph` using `pip` or `conda`\n"
   ]
  },
  {
   "cell_type": "code",
   "execution_count": null,
   "id": "annual-worth",
   "metadata": {},
   "outputs": [],
   "source": [
    "import pandas as pd\n",
    "import pyTigerGraph as tg"
   ]
  },
  {
   "cell_type": "markdown",
   "id": "b06b56ec-b0e5-4166-bdd3-98f12eed5729",
   "metadata": {},
   "source": [
    "## Initiate a connection to a TigerGraph REST++ API Server\n",
    "\n",
    "The code below uses 2 `TigerGraphConnection` calls: the first call establishes a relatively unprivileged connection which allows you to generate a token.  If you already have a token from your TigerGraph administrator, you *do not* need to make this first call, and should comment out the line as indicated.\n",
    "\n",
    "The second connection call uses the token and returns a connection object which will allow all functionality, including making GSQL calls."
   ]
  },
  {
   "cell_type": "code",
   "execution_count": null,
   "id": "precious-observation",
   "metadata": {},
   "outputs": [],
   "source": [
    "# host = \"http://medsales.34.106.148.222.nip.io:14240\"\n",
    "host       = \"http://protomolecule.magichome\" # must include the protocol http or https\n",
    "username   = \"tigergraph\"\n",
    "password   = \"Tigergraph\"\n",
    "graphName  = \"Northwind\" # leave blank to use Global\n",
    "restppPort = 30900       # default 9000\n",
    "gsPort     = 30240       # default 14240\n",
    "mysecret   = \"gfuln25e9b0a5n4a59jqk1vjurh2lasm\"\n",
    "# First establish a basic connection using a secret.  Do *not* do this if you already have a token\n",
    "# host = \"http://34.106.148.222.nip.io\"\n",
    "# token=\"o4luvshk47rticuhqi0cdokiq739o8i9\"\n",
    "conn = tg.TigerGraphConnection(host=host, restppPort=restppPort, gsPort=gsPort, graphname=graphName, password=password)\n",
    "token = conn.getToken(mysecret, setToken=True, lifetime=None)\n",
    "\n",
    "# Next use the new token to establish a full access connection for use with GSQL\n",
    "\n",
    "conn = tg.TigerGraphConnection(host=host, restppPort=restppPort, gsPort=gsPort, graphname=graphName, password=password, apiToken=token[0])\n"
   ]
  },
  {
   "cell_type": "code",
   "execution_count": null,
   "id": "photographic-cross",
   "metadata": {},
   "outputs": [],
   "source": [
    "conn.getVertexTypes()"
   ]
  },
  {
   "cell_type": "code",
   "execution_count": null,
   "id": "dramatic-holmes",
   "metadata": {},
   "outputs": [],
   "source": [
    "# conn.getVertexTypes()\n",
    "# conn.runInstalledQuery('floors')\n",
    "print(conn.gsql('show edge *', options=[]))"
   ]
  },
  {
   "cell_type": "code",
   "execution_count": null,
   "id": "ae0e0e5e-6367-4789-877f-c6df6960e29d",
   "metadata": {},
   "outputs": [],
   "source": [
    "conn.gsql('''\n",
    "             USE GLOBAL\n",
    "             CREATE Graph MyTestGraph()''')"
   ]
  },
  {
   "cell_type": "code",
   "execution_count": null,
   "id": "cb52e4e8-27ff-452e-b41c-6d4bae496766",
   "metadata": {},
   "outputs": [],
   "source": [
    "print(conn.gsql('show graph *', options=[]))"
   ]
  },
  {
   "cell_type": "code",
   "execution_count": null,
   "id": "15ef1c66-3f81-46cf-afe9-bacbb931fe2d",
   "metadata": {},
   "outputs": [],
   "source": [
    "conn.gsql('''\n",
    "    USE GLOBAL\n",
    "    DROP GRAPH MyTestGraph''')"
   ]
  }
 ],
 "metadata": {
  "kernelspec": {
   "display_name": "Python 3",
   "language": "python",
   "name": "python3"
  },
  "language_info": {
   "codemirror_mode": {
    "name": "ipython",
    "version": 3
   },
   "file_extension": ".py",
   "mimetype": "text/x-python",
   "name": "python",
   "nbconvert_exporter": "python",
   "pygments_lexer": "ipython3",
   "version": "3.9.7"
  }
 },
 "nbformat": 4,
 "nbformat_minor": 5
}
