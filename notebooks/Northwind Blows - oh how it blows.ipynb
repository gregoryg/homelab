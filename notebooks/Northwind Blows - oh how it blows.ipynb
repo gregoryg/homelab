{
 "cells": [
  {
   "cell_type": "markdown",
   "id": "74108c0f-fe4c-41c9-a9b2-61e7bf75150f",
   "metadata": {},
   "source": [
    "# Explore data files on local disk"
   ]
  },
  {
   "cell_type": "code",
   "execution_count": null,
   "id": "0aab2bab-29df-4bc1-bba6-74fda24a95c4",
   "metadata": {},
   "outputs": [],
   "source": [
    "import pandas as pd\n",
    "import numpy"
   ]
  },
  {
   "cell_type": "code",
   "execution_count": null,
   "id": "modern-equity",
   "metadata": {},
   "outputs": [],
   "source": [
    "dataroot = \"/data/data-files/graph-data/northwind/data\"\n",
    "orders = pd.read_csv(dataroot + \"/orders.csv\")\n",
    "order_details = pd.read_csv(dataroot + \"/order-details.csv\")\n",
    "customers = pd.read_csv(dataroot + \"/customers.csv\")\n",
    "reps = pd.read_csv(dataroot + \"/employees.csv\")"
   ]
  },
  {
   "cell_type": "code",
   "execution_count": null,
   "id": "following-produce",
   "metadata": {},
   "outputs": [],
   "source": [
    "order_details.dtypes\n"
   ]
  },
  {
   "cell_type": "code",
   "execution_count": null,
   "id": "square-myrtle",
   "metadata": {},
   "outputs": [],
   "source": [
    "order_details.describe().round()"
   ]
  },
  {
   "cell_type": "code",
   "execution_count": null,
   "id": "civilian-washer",
   "metadata": {},
   "outputs": [],
   "source": [
    "order_details.info()"
   ]
  },
  {
   "cell_type": "code",
   "execution_count": null,
   "id": "alpha-lending",
   "metadata": {},
   "outputs": [],
   "source": [
    "order_details.head(20)"
   ]
  },
  {
   "cell_type": "code",
   "execution_count": null,
   "id": "465030f2-7912-4ac5-8d5f-5927f9c3e248",
   "metadata": {},
   "outputs": [],
   "source": [
    "customers['Region'].unique()"
   ]
  },
  {
   "cell_type": "code",
   "execution_count": null,
   "id": "arabic-complexity",
   "metadata": {},
   "outputs": [],
   "source": [
    "%%bash\n",
    "# rm -fv orders.db"
   ]
  },
  {
   "cell_type": "code",
   "execution_count": null,
   "id": "martial-session",
   "metadata": {},
   "outputs": [],
   "source": [
    "orders.info()"
   ]
  },
  {
   "cell_type": "code",
   "execution_count": null,
   "id": "received-journal",
   "metadata": {},
   "outputs": [],
   "source": [
    "orders[orders['CommissionAmt'].notnull()]"
   ]
  },
  {
   "cell_type": "code",
   "execution_count": null,
   "id": "gothic-civilization",
   "metadata": {},
   "outputs": [],
   "source": [
    "# conn = sqlite3.connect('orders.db')\n",
    "# orders.to_sql('orders', conn, if_exists='replace')\n",
    "# order_details.to_sql('order_details', conn, if_exists='replace')\n",
    "# conn.close()"
   ]
  },
  {
   "cell_type": "code",
   "execution_count": null,
   "id": "ranging-retailer",
   "metadata": {},
   "outputs": [],
   "source": [
    "reps['BirthDate']"
   ]
  },
  {
   "cell_type": "markdown",
   "id": "53d52036-0fac-467a-8b9c-da3719b5b577",
   "metadata": {
    "tags": []
   },
   "source": [
    "# Connect to the Northwind Graph using PyTigerGraph"
   ]
  },
  {
   "cell_type": "code",
   "execution_count": null,
   "id": "annual-worth",
   "metadata": {},
   "outputs": [],
   "source": [
    "# import sqlite3\n",
    "import pyTigerGraph as tg"
   ]
  },
  {
   "cell_type": "code",
   "execution_count": null,
   "id": "91b8a63d-c9ec-40bf-b26c-c8e6a5567435",
   "metadata": {},
   "outputs": [],
   "source": [
    "# host = \"http://medsales.34.106.148.222.nip.io:14240\"\n",
    "host       = \"https://homelab-k3s.172.16.17.201.nip.io\" # must include the protocol http or https\n",
    "username   = \"tigergraph\"\n",
    "password   = \"Tigergraph\"\n",
    "graphName  = \"Northwind\" # leave blank to use Global\n",
    "restppPort = 9000       # default 9000\n",
    "gsPort     = 14240       # default 14240\n",
    "mysecret   = \"ll5k45jrrvu0b4gmk4f7fokilgbgam4g\"\n",
    "# First establish a basic connection using a secret.  Do *not* do this if you already have a token\n",
    "# host = \"http://34.106.148.222.nip.io\"\n",
    "# token=\"o4luvshk47rticuhqi0cdokiq739o8i9\"\n",
    "conn = tg.TigerGraphConnection(host=host, restppPort=restppPort, gsPort=gsPort, graphname=graphName, password=password)\n",
    "token = conn.getToken(mysecret, setToken=True, lifetime=None)\n",
    "\n",
    "# Next use the new token to establish a full access connection for use with GSQL\n",
    "\n",
    "conn = tg.TigerGraphConnection(host=host, restppPort=restppPort, gsPort=gsPort, graphname=graphName, password=password, apiToken=token[0])\n"
   ]
  },
  {
   "cell_type": "code",
   "execution_count": null,
   "id": "central-oxide",
   "metadata": {},
   "outputs": [],
   "source": [
    "token[0]"
   ]
  },
  {
   "cell_type": "code",
   "execution_count": null,
   "id": "photographic-cross",
   "metadata": {},
   "outputs": [],
   "source": [
    "conn.getVertexTypes()"
   ]
  },
  {
   "cell_type": "code",
   "execution_count": null,
   "id": "dramatic-holmes",
   "metadata": {},
   "outputs": [],
   "source": [
    "# conn.getVertexTypes()\n",
    "# conn.runInstalledQuery('floors')\n",
    "print(conn.gsql('show edge *', options=[]))"
   ]
  },
  {
   "cell_type": "code",
   "execution_count": null,
   "id": "bf34a240-5bee-4685-9175-d688fb8f3621",
   "metadata": {},
   "outputs": [],
   "source": [
    "conn.gsql('drop graph gort', options=[])"
   ]
  },
  {
   "cell_type": "code",
   "execution_count": null,
   "id": "cb52e4e8-27ff-452e-b41c-6d4bae496766",
   "metadata": {},
   "outputs": [],
   "source": [
    "print(conn.gsql('show graph *', options=[]))"
   ]
  },
  {
   "cell_type": "markdown",
   "id": "practical-alabama",
   "metadata": {},
   "source": [
    "# Reps and customers"
   ]
  },
  {
   "cell_type": "code",
   "execution_count": null,
   "id": "sticky-patent",
   "metadata": {},
   "outputs": [],
   "source": []
  }
 ],
 "metadata": {
  "kernelspec": {
   "display_name": "Python 3",
   "language": "python",
   "name": "python3"
  },
  "language_info": {
   "codemirror_mode": {
    "name": "ipython",
    "version": 3
   },
   "file_extension": ".py",
   "mimetype": "text/x-python",
   "name": "python",
   "nbconvert_exporter": "python",
   "pygments_lexer": "ipython3",
   "version": "3.9.7"
  }
 },
 "nbformat": 4,
 "nbformat_minor": 5
}
