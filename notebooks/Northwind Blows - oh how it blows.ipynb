{
 "cells": [
  {
   "cell_type": "code",
   "execution_count": null,
   "id": "annual-worth",
   "metadata": {},
   "outputs": [],
   "source": [
    "import pandas as pd\n",
    "import numpy\n",
    "import sqlite3\n",
    "import pyTigerGraph as tg"
   ]
  },
  {
   "cell_type": "code",
   "execution_count": null,
   "id": "precious-observation",
   "metadata": {},
   "outputs": [],
   "source": [
    "# host = \"http://medsales.34.106.148.222.nip.io:14240\"\n",
    "host = \"http://protomolecule.magichome\"\n",
    "username = \"tigergraph\"\n",
    "password = \"Tigergraph\"\n",
    "graphName = \"Northwind\"\n",
    "restppPort = 30900\n",
    "gsPort = 30240 \n",
    "mysecret = \"254irou1ff6018fcoffd0qo38r8gofru\"\n",
    "# First establish a basic connection using a secret.  Do *not* do this if you already have a token\n",
    "# host = \"http://34.106.148.222.nip.io\"\n",
    "# token=\"o4luvshk47rticuhqi0cdokiq739o8i9\"\n",
    "conn = tg.TigerGraphConnection(host=host, restppPort=restppPort, gsPort=gsPort, graphname=graphName, password=password)\n",
    "token = conn.getToken(mysecret, setToken=True, lifetime=None)\n",
    "\n",
    "# Next use the new token to establish a full access connection for use with GSQL\n",
    "\n",
    "conn = tg.TigerGraphConnection(host=host, restppPort=restppPort, gsPort=gsPort, graphname=graphName, password=password, apiToken=token[0])\n"
   ]
  },
  {
   "cell_type": "code",
   "execution_count": null,
   "id": "central-oxide",
   "metadata": {},
   "outputs": [],
   "source": [
    "token[0]"
   ]
  },
  {
   "cell_type": "code",
   "execution_count": null,
   "id": "photographic-cross",
   "metadata": {},
   "outputs": [],
   "source": [
    "conn.getVertexTypes()"
   ]
  },
  {
   "cell_type": "code",
   "execution_count": null,
   "id": "dramatic-holmes",
   "metadata": {},
   "outputs": [],
   "source": [
    "# conn.getVertexTypes()\n",
    "# conn.runInstalledQuery('floors')\n",
    "print(conn.gsql('show edge *', options=[]))"
   ]
  },
  {
   "cell_type": "code",
   "execution_count": null,
   "id": "bf34a240-5bee-4685-9175-d688fb8f3621",
   "metadata": {},
   "outputs": [],
   "source": [
    "conn.gsql('drop graph gort', options=[])"
   ]
  },
  {
   "cell_type": "code",
   "execution_count": null,
   "id": "cb52e4e8-27ff-452e-b41c-6d4bae496766",
   "metadata": {},
   "outputs": [],
   "source": [
    "print(conn.gsql('show graph *', options=[]))"
   ]
  },
  {
   "cell_type": "code",
   "execution_count": null,
   "id": "modern-equity",
   "metadata": {},
   "outputs": [],
   "source": [
    "orders = pd.read_csv(\"../graph/tigergraph/solutions/northwind/data/orders.csv\")\n",
    "order_details = pd.read_csv(\"../graph/tigergraph/solutions/northwind/data/order-details.csv\")\n",
    "customers = pd.read_csv(\"../graph/tigergraph/solutions/northwind/data/customers.csv\")\n",
    "reps = pd.read_csv(\"../graph/tigergraph/solutions/northwind/data/employees.csv\")"
   ]
  },
  {
   "cell_type": "code",
   "execution_count": null,
   "id": "following-produce",
   "metadata": {},
   "outputs": [],
   "source": [
    "order_details.dtypes\n"
   ]
  },
  {
   "cell_type": "code",
   "execution_count": null,
   "id": "square-myrtle",
   "metadata": {},
   "outputs": [],
   "source": [
    "order_details.describe().round()"
   ]
  },
  {
   "cell_type": "code",
   "execution_count": null,
   "id": "civilian-washer",
   "metadata": {},
   "outputs": [],
   "source": [
    "order_details.info()"
   ]
  },
  {
   "cell_type": "code",
   "execution_count": null,
   "id": "alpha-lending",
   "metadata": {},
   "outputs": [],
   "source": [
    "order_details.head(20)"
   ]
  },
  {
   "cell_type": "code",
   "execution_count": null,
   "id": "arabic-complexity",
   "metadata": {},
   "outputs": [],
   "source": [
    "%%bash\n",
    "# rm -fv orders.db"
   ]
  },
  {
   "cell_type": "code",
   "execution_count": null,
   "id": "martial-session",
   "metadata": {},
   "outputs": [],
   "source": [
    "orders.info()"
   ]
  },
  {
   "cell_type": "code",
   "execution_count": null,
   "id": "received-journal",
   "metadata": {},
   "outputs": [],
   "source": [
    "orders[orders['CommissionAmt'].notnull()]"
   ]
  },
  {
   "cell_type": "code",
   "execution_count": null,
   "id": "gothic-civilization",
   "metadata": {},
   "outputs": [],
   "source": [
    "conn = sqlite3.connect('orders.db')\n",
    "orders.to_sql('orders', conn, if_exists='replace')\n",
    "order_details.to_sql('order_details', conn, if_exists='replace')\n",
    "conn.close()"
   ]
  },
  {
   "cell_type": "code",
   "execution_count": null,
   "id": "ranging-retailer",
   "metadata": {},
   "outputs": [],
   "source": [
    "reps['BirthDate']"
   ]
  },
  {
   "cell_type": "markdown",
   "id": "practical-alabama",
   "metadata": {},
   "source": [
    "# Reps and customers"
   ]
  },
  {
   "cell_type": "code",
   "execution_count": null,
   "id": "sticky-patent",
   "metadata": {},
   "outputs": [],
   "source": []
  }
 ],
 "metadata": {
  "kernelspec": {
   "display_name": "Python 3",
   "language": "python",
   "name": "python3"
  },
  "language_info": {
   "codemirror_mode": {
    "name": "ipython",
    "version": 3
   },
   "file_extension": ".py",
   "mimetype": "text/x-python",
   "name": "python",
   "nbconvert_exporter": "python",
   "pygments_lexer": "ipython3",
   "version": "3.9.7"
  }
 },
 "nbformat": 4,
 "nbformat_minor": 5
}
