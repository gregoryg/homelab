{
 "cells": [
  {
   "cell_type": "markdown",
   "id": "a83ad631-4e39-45e9-a995-48f997c64f04",
   "metadata": {},
   "source": [
    "# Load Teslafi data to MySQL using PySpark"
   ]
  },
  {
   "cell_type": "code",
   "execution_count": null,
   "id": "bf9347aa-c6ce-44a3-a955-26f7ee937c5e",
   "metadata": {},
   "outputs": [],
   "source": [
    "!echo $VIRTUAL_ENV\n",
    "!env|grep SPARK\n",
    "!echo $SPARK_HOME\n",
    "# !pip install pandas findspark"
   ]
  },
  {
   "cell_type": "code",
   "execution_count": null,
   "id": "be89b892-bf1e-4400-86a7-5e1bac624c87",
   "metadata": {},
   "outputs": [],
   "source": [
    "import pyspark\n",
    "import pandas as pd\n",
    "from pyspark.sql import SparkSession\n",
    "from pyspark.sql.types import StructType, StructField\n",
    "from pyspark.sql.types import StringType, IntegerType\n",
    "import pandas as pd\n",
    "from configparser import ConfigParser\n",
    "\n",
    "import os\n",
    "# os.environ['PYSPARK_SUBMIT_ARGS'] = '--jars /usr/share/java/mariadb-java-client.jar pyspark-shell'\n",
    "\n",
    "import findspark\n",
    "findspark.init()\n"
   ]
  },
  {
   "cell_type": "code",
   "execution_count": null,
   "id": "2d4c74ad-74fa-44be-8ef6-37cf44714edc",
   "metadata": {},
   "outputs": [],
   "source": [
    "# !env|grep SPARK\n",
    "# !cp -v /usr/share/java/mariadb-java-client.jar $SPARK_HOME/jars/"
   ]
  },
  {
   "cell_type": "code",
   "execution_count": null,
   "id": "0d4ca7f8-acef-4f0c-bcb1-1b0a3ae8ea36",
   "metadata": {},
   "outputs": [],
   "source": [
    "# spark = SparkSession.builder.config(\"spark.jars\", \"/usr/share/java/mariadb-java-client.jar\").appName(\"TeslafiLoad\").getOrCreate()\n",
    "spark = SparkSession.builder.appName(\"TeslafiLoad\").getOrCreate()\n",
    "sc = spark.sparkContext\n"
   ]
  },
  {
   "cell_type": "code",
   "execution_count": null,
   "id": "28e40462-5937-4cfa-903f-91204cf096a4",
   "metadata": {},
   "outputs": [],
   "source": [
    "# os.listdir(path='/data/data-files/teslafi/')"
   ]
  },
  {
   "cell_type": "code",
   "execution_count": null,
   "id": "181e7779-414e-4a46-8ab1-2421e05b3cc3",
   "metadata": {},
   "outputs": [],
   "source": [
    "# File location and type\n",
    "csvdir = \"/data/data-files/teslafi\"\n",
    "file_type = \"csv\"\n",
    "# CSV options\n",
    "infer_schema = \"true\"\n",
    "first_row_is_header = \"true\"\n",
    "delimiter = \",\"\n",
    "\n",
    "# MySQL/MariaDB info\n",
    "# Get credentials from file\n",
    "config_section = 'csvload'\n",
    "parser = ConfigParser()\n",
    "_ = parser.read('CREDENTIALS.config')\n",
    "\n",
    "\n",
    "user = parser.get(config_section, 'sqluser')\n",
    "password = parser.get(config_section, 'sqlpassword')\n",
    "host = parser.get(config_section, 'sqlhost')\n",
    "port = parser.get(config_section, 'sqlport')\n",
    "# db = parser.get(config_section, 'sqldb')\n",
    "db = 'teslafi'\n",
    "sqlurl = 'jdbc:mysql://' + host + ':' + port + '/' + db\n",
    "\n",
    "\n",
    "# for path,name in [(f.path,f.name) for f in dbutils.fs.ls(csvdir) if f.path.endswith('.csv')  ]:\n",
    "for fname in os.listdir(path=csvdir):\n",
    "    if fname.endswith('.csv'):\n",
    "        print(fname)\n",
    "        # if not fname in ['ff_party.csv', 'ff_company.csv']:\n",
    "        #     print('skipping ' + fname)\n",
    "        #     continue\n",
    "        df = spark.read.format('csv') \\\n",
    "        .option(\"inferSchema\", infer_schema) \\\n",
    "        .option(\"header\", first_row_is_header) \\\n",
    "        .option(\"sep\", delimiter) \\\n",
    "        .load(csvdir + '/' + fname)\n",
    "        # for a,b in df.dtypes:\n",
    "            # if b == 'timestamp': \n",
    "            #     newdf = df.withColumn(a, df[a].cast(DateType()))\n",
    "            #     print('   CHANGED column ' + a + ' to Date type')\n",
    "            #     df = newdf\n",
    "\n",
    "        df.write.format('jdbc').options(\n",
    "            url=sqlurl,\n",
    "            driver='org.mariadb.jdbc.Driver',\n",
    "            dbtable='teslafi',\n",
    "            user=user,\n",
    "            password=password).mode('append').save()"
   ]
  },
  {
   "cell_type": "code",
   "execution_count": null,
   "id": "74947514-daf7-4e68-8426-03d2b86f3dd9",
   "metadata": {},
   "outputs": [],
   "source": [
    "p = df.toPandas()"
   ]
  },
  {
   "cell_type": "code",
   "execution_count": null,
   "id": "bb241819-e963-45a0-9976-c7b5f8c269a4",
   "metadata": {},
   "outputs": [],
   "source": [
    "p"
   ]
  },
  {
   "cell_type": "code",
   "execution_count": null,
   "id": "2a9a3868-4f5d-4f6c-b9ec-b6121cf96fbd",
   "metadata": {},
   "outputs": [],
   "source": [
    "p['charger_phases'].unique()"
   ]
  },
  {
   "cell_type": "code",
   "execution_count": null,
   "id": "a3e7ab02-732b-4f71-bdbe-dde5534ca103",
   "metadata": {},
   "outputs": [],
   "source": [
    "df.dtypes"
   ]
  },
  {
   "cell_type": "code",
   "execution_count": null,
   "id": "24a21003-3c7c-45df-8024-40e09ce078f3",
   "metadata": {},
   "outputs": [],
   "source": [
    "'ohai' == 'None'\n"
   ]
  }
 ],
 "metadata": {
  "kernelspec": {
   "display_name": "Python 3 (ipykernel)",
   "language": "python",
   "name": "python3"
  },
  "language_info": {
   "codemirror_mode": {
    "name": "ipython",
    "version": 3
   },
   "file_extension": ".py",
   "mimetype": "text/x-python",
   "name": "python",
   "nbconvert_exporter": "python",
   "pygments_lexer": "ipython3",
   "version": "3.10.5"
  }
 },
 "nbformat": 4,
 "nbformat_minor": 5
}
