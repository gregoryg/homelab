{
 "cells": [
  {
   "cell_type": "markdown",
   "id": "0c47f770-44e0-4b19-8682-9b882e2ffa6e",
   "metadata": {},
   "source": [
    "# Exploring Algorithms\n",
    "\n",
    "Using TigerGraph schema-free public algorithms at https://github.com/tigergraph/gsql-graph-algorithms\n"
   ]
  },
  {
   "cell_type": "code",
   "execution_count": null,
   "id": "6c9b63a3-0b04-45c3-aa50-f0a0645d04e6",
   "metadata": {},
   "outputs": [],
   "source": [
    "import pandas as pd\n",
    "# Set up pyTigerGraph access\n",
    "import pyTigerGraph as tg\n",
    "\n",
    "# Prepare to pull our GSQL algorithms from GitHub\n",
    "import requests\n",
    "\n",
    "\n",
    "host       = \"http://protomolecule.magichome\" # must include the protocol http or https\n",
    "username   = \"tigergraph\"\n",
    "password   = \"Tigergraph\"\n",
    "restppPort = 9000       # default 9000\n",
    "gsPort     = 14240       # default 14240\n",
    "\n",
    "# graphName  = \"Northwind\" # leave blank to use Global\n",
    "# mysecret   = \"7vcupj59t7p4ji9t0k3s72nm4bheilig\"\n",
    "# token=\"4vsf41mpl57e6m19pf0c5q1eah6h6jm5\"\n",
    "\n",
    "graphName = \"Patents\"\n",
    "mysecret = \"iksujn9605n4ltklm012a6uiann87rrn\"\n",
    "token = \"15bg00akkb2ume2of295ld38h6ge9270\"\n",
    "\n",
    "graphName = \"social\"\n",
    "mysecret = \"ifn4pc4jnkktim9u80ahhvebkj38g71n\"\n",
    "token = \"9icvamj2undegsfc72e5uph8udj2f3nf\"\n",
    "\n",
    "# First establish a basic connection using a secret.  Do *not* do this if you already have a token\n",
    "# conn = tg.TigerGraphConnection(host=host, restppPort=restppPort, gsPort=gsPort, graphname=graphName, password=password)\n",
    "# token = conn.getToken(mysecret, setToken=True, lifetime=None)[0]\n",
    "\n",
    "# Next use the new token to establish a full access connection for use with GSQL\n",
    "\n",
    "conn = tg.TigerGraphConnection(host=host, restppPort=restppPort, gsPort=gsPort, graphname=graphName, password=password, apiToken=token)\n",
    "# token\n"
   ]
  },
  {
   "cell_type": "markdown",
   "id": "f1c3a5ed-02a9-4508-9877-aac89372bafb",
   "metadata": {},
   "source": [
    "# Algorithms"
   ]
  },
  {
   "cell_type": "markdown",
   "id": "631c98b8-8141-49dc-b2fa-cf03ead15f49",
   "metadata": {},
   "source": [
    "## PageRank - basic\n",
    "\n",
    "- [PageRank on Wikipedia](https://en.wikipedia.org/wiki/PageRank#Algorithmhttps://en.wikipedia.org/wiki/PageRank#Algorithm)\n",
    "- [TigerGraph algos link for PageRank](https://github.com/tigergraph/gsql-graph-algorithms/tree/master/algorithms/Centrality/pagerank)\n",
    "- [How To Calculate PageRank](http://www.seopt.com/2007/10/how-to-calculate-pagerank/)\n",
    "- [How is PageRank calculated?](https://www.scribd.com/document/54984557/How-is-PageRank-Calculatedhttps://www.scribd.com/document/54984557/How-is-PageRank-Calculated)\n",
    "\n",
    "> What happens when I link to your page and you link to mine? Then I need your PageRank to calculate mine, but you must know mine to calculate yours. The calculation seems to break down.\n",
    ">\n",
    "> The answer is that the PageRank formula must be calculated several times–it must be reiterated. Only after several iterations can we find any one page PageRank.\n",
    "\n",
    "PageRank is a centrality algo"
   ]
  },
  {
   "cell_type": "code",
   "execution_count": null,
   "id": "4e82148c-a40e-4877-a65e-43876b395042",
   "metadata": {},
   "outputs": [],
   "source": [
    "### TigerGraph's schema-free basic PageRank\n",
    "!curl -s 'https://raw.githubusercontent.com/tigergraph/gsql-graph-algorithms/master/algorithms/Centrality/pagerank/tg_pagerank.gsql' | pygmentize -l gsql"
   ]
  },
  {
   "cell_type": "code",
   "execution_count": null,
   "id": "82406e25-98a8-4db2-bb9f-d6b2838215d7",
   "metadata": {},
   "outputs": [],
   "source": [
    "print(conn.gsql('USE GRAPH ' + graphName\n",
    "              + '\\n'\n",
    "              + requests.get('https://raw.githubusercontent.com/tigergraph/gsql-graph-algorithms/master/algorithms/Centrality/pagerank/tg_pagerank.gsql').text\n",
    "              + 'INSTALL QUERY tg_pagerank'))"
   ]
  },
  {
   "cell_type": "code",
   "execution_count": null,
   "id": "de446f7b-82c6-4c6d-a0f7-3c3fab2998e9",
   "metadata": {},
   "outputs": [],
   "source": [
    "# Check PageRank for Reps - rep_order\n",
    "max_change    = 0.001     # default 0.001\n",
    "max_iter      = 25        # default 25\n",
    "damping       = 0.85      # default 0.85\n",
    "top_k         = 100       # default 100\n",
    "print_accum   = True      # default TRUE\n",
    "result_attr   = \"\"        # default \"\"\n",
    "file_path     = \"\"        # default \"\"\n",
    "display_edges = False     # default FALSE\n",
    "vtype = 'Reps'\n",
    "etype = 'rep_order'\n",
    "\n",
    "vtype = 'Application'\n",
    "etype = 'has_parent'\n",
    "\n",
    "vtype = \"Person\"\n",
    "etype = \"Friend\"\n",
    "pagerankj = conn.runInstalledQuery('tg_pagerank', \n",
    "                                   params={'v_type': vtype,\n",
    "                                           'max_iter': 50,\n",
    "                                           'e_type': etype,\n",
    "                                           'damping': damping,\n",
    "                                           'top_k': top_k,\n",
    "                                           'print_accum': print_accum,\n",
    "                                           'result_attr': result_attr,\n",
    "                                           'file_path': file_path,\n",
    "                                           'display_edges': display_edges\n",
    "                                          })\n",
    "pd.DataFrame(pagerankj[0]['@@top_scores_heap'])"
   ]
  },
  {
   "cell_type": "markdown",
   "id": "952782d4-969b-4d9c-a26f-d6ffb64e81be",
   "metadata": {},
   "source": [
    "## Dudas\n",
    "\n",
    "Ok - here's something mystifying to me - there are only a few connected nodes in the graph - currently only these\n",
    "<div>\n",
    "<img src=\"images/simple-friend-graph-01.png\" width=\"500\"/>\n",
    "</div>\n",
    "\n",
    "**Only** Bob, Chase, Alex, Fiona and Justin have friends.  Justin with two incoming edges and no outgoing edges, has a score of 1, as do **all** unconnected nodes.  It appears that this version of PageRank gives a score of 1 to all nodes with zero outdegree.  "
   ]
  },
  {
   "cell_type": "code",
   "execution_count": null,
   "id": "4186758f-9387-491c-ae87-3693abf703d8",
   "metadata": {},
   "outputs": [],
   "source": [
    "conn.getVertexDataframe('Person')\n",
    "\n",
    "conn.getEdgesDataframe('Person', 'Fiona')"
   ]
  },
  {
   "cell_type": "markdown",
   "id": "12be9bea-7593-4758-a207-6d78e9d39e66",
   "metadata": {},
   "source": [
    "# Latex examples (use Markdown code block)\n"
   ]
  },
  {
   "cell_type": "markdown",
   "id": "b86fb134-b766-4074-81d5-6dbd9b03fa32",
   "metadata": {},
   "source": [
    "Euler's identity: $$ e^{i \\pi} + 1 = 0 $$"
   ]
  },
  {
   "cell_type": "markdown",
   "id": "490080f2-5eb2-451b-9666-35b005af3140",
   "metadata": {},
   "source": [
    "$$\n",
    "\\frac{arg 1}{arg 2} \\\\\n",
    "x^2\\\\\n",
    "e^{i\\pi}\\\\\n",
    "A_i\\\\\n",
    "B_{ij}\\\\\n",
    "\\sqrt[n]{arg}\n",
    "$$"
   ]
  },
  {
   "cell_type": "markdown",
   "id": "8c5b1b95-4b77-4894-88d1-cc38c6a8e3c5",
   "metadata": {},
   "source": [
    "\n",
    "$$\n",
    "\\frac{arg 1}{arg 2} \\\n",
    "x^2\n",
    "$$\n"
   ]
  },
  {
   "cell_type": "markdown",
   "id": "1ffdcf4f-d78f-4bf1-981f-c4c5b50f672c",
   "metadata": {},
   "source": [
    "Given : $\\pi = 3.14$ , $\\alpha = \\frac{3\\pi}{4}\\, rad$\n",
    "$$\n",
    "\\omega = 2\\pi f \n",
    "$$\n",
    "$$\n",
    "f = \\frac{c}{\\lambda}\\\\\n",
    "\\lambda_0=\\theta^2+\\delta\\\\\n",
    "\\Delta\\lambda = \\frac{1}{\\lambda^2}\n",
    "$$"
   ]
  },
  {
   "cell_type": "markdown",
   "id": "a00680e1-af4b-403a-aa5a-ae84abca54c6",
   "metadata": {},
   "source": [
    "$\\sum_{i=0}^n i^2 = \\frac{(n^2+n)(2n+1)}{6}$\n"
   ]
  },
  {
   "cell_type": "markdown",
   "id": "442905fe-735a-401b-b57c-f21736e72cfb",
   "metadata": {},
   "source": [
    "$$ \n",
    "\\sum_{i=0}^n i^2 = \\frac{(n^2+n)(2n+1)}{6}\n",
    "$$\n",
    "$$\n",
    "1 + 2\n",
    "$$\n"
   ]
  },
  {
   "cell_type": "code",
   "execution_count": null,
   "id": "f2a032ce-5f1e-48bc-b140-9803efdf9fe8",
   "metadata": {},
   "outputs": [],
   "source": [
    "# from pygments import highlight\n",
    "# from pygments.lexers import SqlLexer\n",
    "# from pygments.formatters import HtmlFormatter\n",
    "# from IPython.core.display import HTML\n",
    "# from pygments.lexers import gsql\n",
    "# # from pygments.formatters import gsql\n",
    "\n",
    "\n",
    "# display(gsql, 'CREATE graph poodle()')"
   ]
  }
 ],
 "metadata": {
  "kernelspec": {
   "display_name": "Python 3",
   "language": "python",
   "name": "python3"
  },
  "language_info": {
   "codemirror_mode": {
    "name": "ipython",
    "version": 3
   },
   "file_extension": ".py",
   "mimetype": "text/x-python",
   "name": "python",
   "nbconvert_exporter": "python",
   "pygments_lexer": "ipython3",
   "version": "3.9.7"
  }
 },
 "nbformat": 4,
 "nbformat_minor": 5
}
