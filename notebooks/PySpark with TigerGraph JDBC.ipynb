{
 "cells": [
  {
   "cell_type": "markdown",
   "id": "e0632aae-5f18-4198-a428-3c0a06763115",
   "metadata": {},
   "source": [
    "# Using TigerGraph JDBC with PySpark\n",
    "The required libraries (installed with pip or conda) include\n",
    "1. `pyspark`\n",
    "1. `findspark` to locate the Spark installation and set initial config\n",
    "\n"
   ]
  },
  {
   "cell_type": "code",
   "execution_count": null,
   "id": "9c9877c2-dd41-443c-8c40-30ea916a8faa",
   "metadata": {},
   "outputs": [],
   "source": [
    "import findspark\n",
    "findspark.init()\n",
    "\n",
    "import pyspark\n",
    "import random\n",
    "\n",
    "import os\n",
    "os.environ['PYSPARK_SUBMIT_ARGS'] = '--jars /opt/spark/user-jars/tg-jdbc-driver-1.2.jar pyspark-shell'\n"
   ]
  },
  {
   "cell_type": "code",
   "execution_count": null,
   "id": "a3fad6ff-44e1-4215-80af-3ac431f92d12",
   "metadata": {},
   "outputs": [],
   "source": [
    "from pyspark.sql import SparkSession\n",
    "from pyspark.sql.types import StructType, StructField\n",
    "from pyspark.sql.types import StringType, IntegerType\n",
    "import pandas as pd\n"
   ]
  },
  {
   "cell_type": "code",
   "execution_count": null,
   "id": "2f37436d-27bd-4615-b28c-5fd64069afe9",
   "metadata": {},
   "outputs": [],
   "source": [
    "spark = SparkSession.builder.appName(\"TigerGraphAnalysis\").getOrCreate()"
   ]
  },
  {
   "cell_type": "code",
   "execution_count": null,
   "id": "404784dd-29e7-49d8-8702-2cc2cb097d23",
   "metadata": {},
   "outputs": [],
   "source": [
    "# define connection parameters\n",
    "gsurl = \"http://protomolecule.magichome:14240\" # GraphStudio URL\n",
    "gsuser = \"tigergraph\"\n",
    "gspass = \"Tigergraph\"\n",
    "graph  = \"Northwind\" # name of graph to connect"
   ]
  },
  {
   "cell_type": "code",
   "execution_count": null,
   "id": "09e2f47d-514f-4eb4-8d25-48e89ca24568",
   "metadata": {},
   "outputs": [],
   "source": [
    "jdbcDF = spark.read \\\n",
    "  .format(\"jdbc\") \\\n",
    "  .option(\"driver\", \"com.tigergraph.jdbc.Driver\") \\\n",
    "  .option(\"url\", \"jdbc:tg:\" + gsurl) \\\n",
    "  .option(\"user\", gsuser) \\\n",
    "  .option(\"password\", gspass) \\\n",
    "  .option(\"graph\", graph) \\\n",
    "  .option(\"dbtable\", \"vertex Orders\") \\\n",
    "  .option(\"limit\", \"10\") \\\n",
    "  .option(\"debug\", \"0\") \\\n",
    "  .load()\n",
    "\n",
    "jdbcDF.printSchema()\n",
    "# jdbcDF.show()\n"
   ]
  },
  {
   "cell_type": "code",
   "execution_count": null,
   "id": "23e54fa1-c8be-4891-9940-3f683e4217de",
   "metadata": {},
   "outputs": [],
   "source": [
    "df = jdbcDF.toPandas()\n",
    "df"
   ]
  },
  {
   "cell_type": "code",
   "execution_count": null,
   "id": "444cbc4f-1b7e-4b1f-aba5-f383655c74e4",
   "metadata": {},
   "outputs": [],
   "source": [
    "jdbcDF.show()"
   ]
  }
 ],
 "metadata": {
  "kernelspec": {
   "display_name": "Python 3 (ipykernel)",
   "language": "python",
   "name": "python3"
  },
  "language_info": {
   "codemirror_mode": {
    "name": "ipython",
    "version": 3
   },
   "file_extension": ".py",
   "mimetype": "text/x-python",
   "name": "python",
   "nbconvert_exporter": "python",
   "pygments_lexer": "ipython3",
   "version": "3.9.12"
  }
 },
 "nbformat": 4,
 "nbformat_minor": 5
}
