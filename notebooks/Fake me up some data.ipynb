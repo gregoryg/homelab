{
 "cells": [
  {
   "cell_type": "code",
   "execution_count": null,
   "id": "2a177d50-0b71-46b4-b91d-a419b8a5b646",
   "metadata": {},
   "outputs": [],
   "source": [
    "from faker import Faker"
   ]
  },
  {
   "cell_type": "code",
   "execution_count": null,
   "id": "65838096-a90d-41ab-819d-5b5ef76f5596",
   "metadata": {},
   "outputs": [],
   "source": [
    "fake = Faker(['en_us', 'fr_FR'])\n",
    "for _ in range(10):\n",
    "    print(fake.name())"
   ]
  },
  {
   "cell_type": "code",
   "execution_count": null,
   "id": "ed0c077f-7355-451e-82fd-143ecfd301af",
   "metadata": {},
   "outputs": [],
   "source": [
    "fake.providers"
   ]
  },
  {
   "cell_type": "code",
   "execution_count": null,
   "id": "4f5d9f84-86ad-48fd-8e60-655d6781f76c",
   "metadata": {},
   "outputs": [],
   "source": [
    "fake.sentence()"
   ]
  }
 ],
 "metadata": {
  "kernelspec": {
   "display_name": "Python 3 (ipykernel)",
   "language": "python",
   "name": "python3"
  },
  "language_info": {
   "codemirror_mode": {
    "name": "ipython",
    "version": 3
   },
   "file_extension": ".py",
   "mimetype": "text/x-python",
   "name": "python",
   "nbconvert_exporter": "python",
   "pygments_lexer": "ipython3",
   "version": "3.10.8"
  }
 },
 "nbformat": 4,
 "nbformat_minor": 5
}
