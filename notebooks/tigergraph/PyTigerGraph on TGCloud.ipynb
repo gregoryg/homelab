{
 "cells": [
  {
   "cell_type": "markdown",
   "id": "4df3f637-6e2a-40f1-9d6a-06c2b09c0318",
   "metadata": {},
   "source": [
    "# Using PyTigerGraph with Jupyter Notebook\n",
    "\n",
    "`pyTigerGraph` is a Python library that initiates a secure connection with a TigerGraph REST++ API server.  Among many other actions, this connection allows arbitrary GSQL command execution, as allowed by your user's RBAC privileges.\n",
    "\n",
    "\n",
    "First install `pyTigerGraph` using `pip` or `conda`\n"
   ]
  },
  {
   "cell_type": "code",
   "execution_count": null,
   "id": "annual-worth",
   "metadata": {},
   "outputs": [],
   "source": [
    "import pyTigerGraph as tg"
   ]
  },
  {
   "cell_type": "markdown",
   "id": "b06b56ec-b0e5-4166-bdd3-98f12eed5729",
   "metadata": {},
   "source": [
    "## Initiate a connection to a TigerGraph REST++ API Server\n",
    "\n",
    "The code below uses 2 `TigerGraphConnection` calls: the first call establishes a relatively unprivileged connection which allows you to generate a token.  If you already have a token from your TigerGraph administrator, you *do not* need to make this first call, and should comment out the line as indicated.\n",
    "\n",
    "The second connection call uses the token and returns a connection object which will allow all functionality, including making GSQL calls."
   ]
  },
  {
   "cell_type": "code",
   "execution_count": null,
   "id": "precious-observation",
   "metadata": {},
   "outputs": [],
   "source": [
    "# host = \"http://medsales.34.106.148.222.nip.io:14240\"\n",
    "host       = \"https://gg-regions-jupyter.i.tgcloud.io\"\n",
    "username   = \"tigergraph\"\n",
    "password   = \"Z0rt1l36\"\n",
    "graphName  = \"MyGraph\" # leave blank to use Global\n",
    "restppPort = 9000       # default 9000\n",
    "gsPort     = 14240       # default 14240\n",
    "mysecret   = \"sjae1j4rqc4e9pii2t2ppbclu2tm9a3a\"\n",
    "token=\"jkn1ufoiu8aq4fscq19ogkc474ogd999\"\n",
    "\n",
    "# conn = tg.TigerGraphConnection(host=host, graphname=graphName, password=password)\n",
    "# mysecret = conn.createSecret()\n",
    "\n",
    "# First establish a basic connection using a secret.  Do *not* do this if you already have a token\n",
    "# conn = tg.TigerGraphConnection(host=host, restppPort=restppPort, gsPort=gsPort, graphname=graphName, password=password)\n",
    "# token = conn.getToken(mysecret, setToken=True, lifetime=3000000)[0]\n",
    "\n",
    "# # Next use the new token to establish a full access connection for use with GSQL\n",
    "\n",
    "conn = tg.TigerGraphConnection(host=host, restppPort=restppPort, gsPort=gsPort, graphname=graphName, password=password, apiToken=token)\n"
   ]
  },
  {
   "cell_type": "code",
   "execution_count": null,
   "id": "9ab18b08-4573-4e3d-b6b1-b0db5a53529f",
   "metadata": {},
   "outputs": [],
   "source": [
    "token"
   ]
  },
  {
   "cell_type": "code",
   "execution_count": null,
   "id": "72f69275-2eb7-4ec0-832f-3843bb861c92",
   "metadata": {
    "tags": []
   },
   "outputs": [],
   "source": [
    "mysecret"
   ]
  },
  {
   "cell_type": "code",
   "execution_count": null,
   "id": "photographic-cross",
   "metadata": {},
   "outputs": [],
   "source": [
    "conn.getVertexTypes()"
   ]
  },
  {
   "cell_type": "code",
   "execution_count": null,
   "id": "7c294654-6274-4b0f-bc1b-b3b3e221d229",
   "metadata": {},
   "outputs": [],
   "source": [
    "conn.getEdgeType('belongs_to')"
   ]
  },
  {
   "cell_type": "code",
   "execution_count": null,
   "id": "5a8b60e0-a9cd-4f6f-9688-f51215d2b1dd",
   "metadata": {},
   "outputs": [],
   "source": [
    "# conn.getVertexTypes()\n",
    "# conn.runInstalledQuery('floors')\n",
    "print(conn.gsql('show edge *', options=[]))"
   ]
  },
  {
   "cell_type": "markdown",
   "id": "2ad8a9c4-f683-44f1-bc4c-a505d4c1bcd1",
   "metadata": {},
   "source": [
    "# Try UDF functionality\n",
    "\n",
    "First, get the existing files - then add a function of our own"
   ]
  },
  {
   "cell_type": "code",
   "execution_count": null,
   "id": "ffb7d19b-115d-4b96-9f3a-4930adad05fd",
   "metadata": {},
   "outputs": [],
   "source": [
    "conn.gsql('get ExprFunctions TO \"/tmp/ExprFunctions.hpp\"')\n",
    "conn.gsql('get ExprUtil TO \"/tmp/ExprUtil.hpp\"')"
   ]
  },
  {
   "cell_type": "code",
   "execution_count": null,
   "id": "fcd84e26-f7b3-4fe9-a2b6-5432eb83ebfc",
   "metadata": {},
   "outputs": [],
   "source": [
    "conn.uploadFile(filePath=\"/tmp/ExprFunctions.hpp\", fileTag=\"idunno\")"
   ]
  },
  {
   "cell_type": "code",
   "execution_count": null,
   "id": "f0be23fd-5145-4d69-a4bb-a87d33573e7f",
   "metadata": {},
   "outputs": [],
   "source": [
    "conn.downloadJar"
   ]
  },
  {
   "cell_type": "code",
   "execution_count": null,
   "id": "ae0e0e5e-6367-4789-877f-c6df6960e29d",
   "metadata": {},
   "outputs": [],
   "source": [
    "conn.gsql('''\n",
    "             USE GLOBAL\n",
    "             CREATE Graph MyTestGraph()''')"
   ]
  },
  {
   "cell_type": "code",
   "execution_count": null,
   "id": "cb52e4e8-27ff-452e-b41c-6d4bae496766",
   "metadata": {},
   "outputs": [],
   "source": [
    "print(conn.gsql('show graph *', options=[]))"
   ]
  },
  {
   "cell_type": "code",
   "execution_count": null,
   "id": "15ef1c66-3f81-46cf-afe9-bacbb931fe2d",
   "metadata": {},
   "outputs": [],
   "source": [
    "conn.gsql('''\n",
    "    USE GLOBAL\n",
    "    DROP GRAPH MyTestGraph''')"
   ]
  }
 ],
 "metadata": {
  "kernelspec": {
   "display_name": "Python 3 (ipykernel)",
   "language": "python",
   "name": "python3"
  },
  "language_info": {
   "codemirror_mode": {
    "name": "ipython",
    "version": 3
   },
   "file_extension": ".py",
   "mimetype": "text/x-python",
   "name": "python",
   "nbconvert_exporter": "python",
   "pygments_lexer": "ipython3",
   "version": "3.9.9"
  }
 },
 "nbformat": 4,
 "nbformat_minor": 5
}
