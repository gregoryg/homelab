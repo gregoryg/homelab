{
 "cells": [
  {
   "cell_type": "markdown",
   "id": "78ad00e4",
   "metadata": {},
   "source": [
    "# Kubernetes Demo using Synthea Data\n",
    "\n",
    "Using TigerGraph schema-free public algorithms at https://github.com/tigergraph/gsql-graph-algorithms\n"
   ]
  },
  {
   "cell_type": "code",
   "execution_count": null,
   "id": "27e6d2d8-3b70-4171-bcc2-02891e4756be",
   "metadata": {
    "jupyter": {
     "outputs_hidden": false
    }
   },
   "outputs": [],
   "source": [
    "from configparser import ConfigParser\n",
    "\n",
    "import pandas as pd\n",
    "# Set up pyTigerGraph acces\n",
    "import pyTigerGraph as tg"
   ]
  },
  {
   "cell_type": "code",
   "execution_count": null,
   "id": "97697930-0036-490a-83c7-8922f0b5d7af",
   "metadata": {
    "jupyter": {
     "outputs_hidden": false
    }
   },
   "outputs": [],
   "source": [
    "parser = ConfigParser()\n",
    "_ = parser.read('CREDENTIALS.config') # contains DEFAULT section plus override sections\n",
    "\n",
    "host = parser.get('antifraud', 'host')\n",
    "username = parser.get('antifraud', 'user')\n",
    "password = parser.get('antifraud', 'password')\n",
    "gsPort = parser.get('antifraud', 'gsPort')\n",
    "apiPort = parser.get('antifraud', 'apiPort')\n",
    "token = parser.get('antifraud', 'token')\n",
    "graphName = 'SupplyChain'\n",
    "\n",
    "\n",
    "# Prepare to pull our GSQL algorithms from GitHub\n",
    "import requests\n",
    "\n",
    "# First establish a basic connection using a secret.  Do *not* do this if you already have a token\n",
    "# conn = tg.TigerGraphConnection(host=host, restppPort=apiPort, gsPort=gsPort, graphname=graphName, password=password)\n",
    "# token = conn.getToken(mysecret, setToken=True, lifetime=None)[0]\n",
    "\n",
    "# Next use the new token to establish a full access connection for use with GSQL\n",
    "\n",
    "conn = tg.TigerGraphConnection(host=host, restppPort=apiPort, gsPort=gsPort, graphname=graphName, password=password, apiToken=token)\n",
    "# token"
   ]
  },
  {
   "cell_type": "code",
   "execution_count": null,
   "id": "67530c9f-bdb9-4fa7-8e28-3ca57d15cee8",
   "metadata": {},
   "outputs": [],
   "source": [
    "conn.getVertexTypes()"
   ]
  },
  {
   "cell_type": "code",
   "execution_count": null,
   "id": "7a2a0a1b-f103-4787-8f54-45567e9ee383",
   "metadata": {},
   "outputs": [],
   "source": [
    "conn.getEdgeTypes()"
   ]
  },
  {
   "cell_type": "code",
   "execution_count": null,
   "id": "e88190d9-0e6b-444f-958a-e1c7bea5fadd",
   "metadata": {},
   "outputs": [],
   "source": [
    "print(\n",
    "    conn.gsql('''\n",
    "use graph KubDemoForSynthea\n",
    "show query *\n",
    "'''))"
   ]
  },
  {
   "cell_type": "code",
   "execution_count": null,
   "id": "36faee25-323e-4ed4-8e49-f76b0397ed6f",
   "metadata": {},
   "outputs": [],
   "source": [
    "%%time\n",
    "conn.runInstalledQuery(queryName='_countsdist')"
   ]
  },
  {
   "cell_type": "code",
   "execution_count": null,
   "id": "60ad5d96",
   "metadata": {
    "jupyter": {
     "outputs_hidden": false
    }
   },
   "outputs": [],
   "source": [
    "# conn.runInstalledQuery('bookRecommendation', params={'inputProfile': 11178 })"
   ]
  },
  {
   "cell_type": "code",
   "execution_count": null,
   "id": "944b5885",
   "metadata": {
    "jupyter": {
     "outputs_hidden": false
    }
   },
   "outputs": [],
   "source": [
    "!pygmentize  -O style=emacs -f terminal256 /home/gregj/projects/homelab/graph/tigergraph/solutions/patents/01-create-schema.gsql"
   ]
  }
 ],
 "metadata": {
  "kernelspec": {
   "display_name": "Python 3 (ipykernel)",
   "language": "python",
   "name": "python3"
  },
  "language_info": {
   "codemirror_mode": {
    "name": "ipython",
    "version": 3
   },
   "file_extension": ".py",
   "mimetype": "text/x-python",
   "name": "python",
   "nbconvert_exporter": "python",
   "pygments_lexer": "ipython3",
   "version": "3.9.12"
  },
  "name": "Explore TigerGraph Algorithms.ipynb"
 },
 "nbformat": 4,
 "nbformat_minor": 5
}
