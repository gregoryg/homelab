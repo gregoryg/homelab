{
 "cells": [
  {
   "cell_type": "code",
   "execution_count": null,
   "id": "c2a7a0b5-6062-49ba-8d9d-4d28a41a5a3c",
   "metadata": {},
   "outputs": [],
   "source": [
    "from configparser import ConfigParser\n",
    "\n",
    "import pandas as pd\n",
    "# Set up pyTigerGraph acces\n",
    "import pyTigerGraph as tg"
   ]
  },
  {
   "cell_type": "code",
   "execution_count": null,
   "id": "d08ffae3-9727-4f4b-ae96-421042e7f818",
   "metadata": {},
   "outputs": [],
   "source": [
    "parser = ConfigParser()\n",
    "_ = parser.read('CREDENTIALS.config') # contains DEFAULT section plus override sections\n",
    "\n",
    "host = parser.get('homelab-docker', 'host')\n",
    "username = parser.get('homelab-docker', 'user')\n",
    "password = parser.get('homelab-docker', 'password')\n",
    "gsPort = parser.get('homelab-docker', 'gsPort')\n",
    "apiPort = parser.get('homelab-docker', 'apiPort')\n",
    "\n",
    "graphName = 'ldbc_snb'\n",
    "mysecret = parser.get('homelab-docker', 'secretLdbc')\n",
    "mytoken =parser.get('homelab-docker', 'tokenldbc', fallback='')"
   ]
  },
  {
   "cell_type": "code",
   "execution_count": null,
   "id": "d60a9602-93ae-447a-8011-a5131ac13d1a",
   "metadata": {},
   "outputs": [],
   "source": [
    "# graphName  = \"Northwind\" # leave blank to use Global\n",
    "# mysecret   = \"7vcupj59t7p4ji9t0k3s72nm4bheilig\"\n",
    "# token=\"4vsf41mpl57e6m19pf0c5q1eah6h6jm5\"\n",
    "\n",
    "graphName = \"Patents\"\n",
    "mysecret = \"iksujn9605n4ltklm012a6uiann87rrn\"\n",
    "token = \"15bg00akkb2ume2of295ld38h6ge9270\"\n",
    "\n",
    "graphName = \"social\"\n",
    "mysecret = \"ifn4pc4jnkktim9u80ahhvebkj38g71n\"\n",
    "token = \"9icvamj2undegsfc72e5uph8udj2f3nf\"\n",
    "\n",
    "# First establish a basic connection using a secret.  Do *not* do this if you already have a token\n",
    "# conn = tg.TigerGraphConnection(host=host, restppPort=restppPort, gsPort=gsPort, graphname=graphName, password=password)\n",
    "# token = conn.getToken(mysecret, setToken=True, lifetime=None)[0]\n",
    "\n",
    "# Next use the new token to establish a full access connection for use with GSQL\n",
    "\n",
    "conn = tg.TigerGraphConnection(host=host, restppPort=restppPort, gsPort=gsPort, graphname=graphName, password=password, apiToken=token)\n",
    "# token"
   ]
  },
  {
   "cell_type": "code",
   "execution_count": null,
   "id": "0d8f1bd3-1265-45fa-82c5-4cc9c0c426bd",
   "metadata": {},
   "outputs": [],
   "source": [
    "%sx read -p \"This is a prompt: \"\n",
    "%load_ext\n",
    "%s"
   ]
  },
  {
   "cell_type": "code",
   "execution_count": null,
   "id": "f8e03e2e-2e60-4b80-887c-18a200a29eab",
   "metadata": {},
   "outputs": [],
   "source": [
    "import urllib.request\n",
    "import gnupg\n",
    "import pandas as pd"
   ]
  },
  {
   "cell_type": "code",
   "execution_count": null,
   "id": "f13182f9-60d9-4410-a9f7-06d196b070e0",
   "metadata": {},
   "outputs": [],
   "source": [
    "gpg = gnupg.GPG()"
   ]
  },
  {
   "cell_type": "code",
   "execution_count": null,
   "id": "25520dea-5dc2-4161-aaac-18830b68cef5",
   "metadata": {},
   "outputs": [],
   "source": []
  },
  {
   "cell_type": "code",
   "execution_count": null,
   "id": "c5d5f8d3-75d1-4924-a395-bb5d518f9343",
   "metadata": {},
   "outputs": [],
   "source": []
  },
  {
   "cell_type": "code",
   "execution_count": null,
   "id": "77694238-7a59-4906-9053-5dd24d6fc14e",
   "metadata": {},
   "outputs": [],
   "source": []
  }
 ],
 "metadata": {
  "kernelspec": {
   "display_name": "Python 3 (ipykernel)",
   "language": "python",
   "name": "python3"
  },
  "language_info": {
   "codemirror_mode": {
    "name": "ipython",
    "version": 3
   },
   "file_extension": ".py",
   "mimetype": "text/x-python",
   "name": "python",
   "nbconvert_exporter": "python",
   "pygments_lexer": "ipython3",
   "version": "3.9.10"
  }
 },
 "nbformat": 4,
 "nbformat_minor": 5
}
