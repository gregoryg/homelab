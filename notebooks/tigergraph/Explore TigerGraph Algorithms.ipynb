{
 "cells": [
  {
   "cell_type": "markdown",
   "id": "78ad00e4",
   "metadata": {},
   "source": [
    "# Exploring Algorithms\n",
    "\n",
    "Using TigerGraph schema-free public algorithms at https://github.com/tigergraph/gsql-graph-algorithms\n"
   ]
  },
  {
   "cell_type": "code",
   "execution_count": null,
   "id": "27e6d2d8-3b70-4171-bcc2-02891e4756be",
   "metadata": {
    "collapsed": false,
    "jupyter": {
     "outputs_hidden": false
    }
   },
   "outputs": [],
   "source": [
    "from configparser import ConfigParser\n",
    "\n",
    "import pandas as pd\n",
    "# Set up pyTigerGraph acces\n",
    "import pyTigerGraph as tg"
   ]
  },
  {
   "cell_type": "code",
   "execution_count": null,
   "id": "97697930-0036-490a-83c7-8922f0b5d7af",
   "metadata": {
    "collapsed": false,
    "jupyter": {
     "outputs_hidden": false
    }
   },
   "outputs": [],
   "source": [
    "parser = ConfigParser()\n",
    "_ = parser.read('../CREDENTIALS.config') # contains DEFAULT section plus override sections\n",
    "\n",
    "host = parser.get('mayoclinic', 'host')\n",
    "username = parser.get('mayoclinic', 'user')\n",
    "password = parser.get('mayoclinic', 'password')\n",
    "gsPort = parser.get('mayoclinic', 'gsPort')\n",
    "apiPort = parser.get('mayoclinic', 'apiPort')\n",
    "\n",
    "graphName = 'Northwind'\n",
    "\n",
    "\n",
    "# Prepare to pull our GSQL algorithms from GitHub\n",
    "import requests\n",
    "\n",
    "\n",
    "host       = \"http://protomolecule.magichome\" # must include the protocol http or https\n",
    "username   = \"tigergraph\"\n",
    "password   = \"Tigergraph\"\n",
    "restppPort = 9000       # default 9000\n",
    "gsPort     = 14240       # default 14240\n",
    "\n",
    "# graphName  = \"Northwind\" # leave blank to use Global\n",
    "# mysecret   = \"7vcupj59t7p4ji9t0k3s72nm4bheilig\"\n",
    "# token=\"4vsf41mpl57e6m19pf0c5q1eah6h6jm5\"\n",
    "\n",
    "graphName = \"Patents\"\n",
    "mysecret = \"iksujn9605n4ltklm012a6uiann87rrn\"\n",
    "token = \"15bg00akkb2ume2of295ld38h6ge9270\"\n",
    "\n",
    "graphName = \"social\"\n",
    "mysecret = \"ifn4pc4jnkktim9u80ahhvebkj38g71n\"\n",
    "token = \"9icvamj2undegsfc72e5uph8udj2f3nf\"\n",
    "\n",
    "# First establish a basic connection using a secret.  Do *not* do this if you already have a token\n",
    "# conn = tg.TigerGraphConnection(host=host, restppPort=restppPort, gsPort=gsPort, graphname=graphName, password=password)\n",
    "# token = conn.getToken(mysecret, setToken=True, lifetime=None)[0]\n",
    "\n",
    "# Next use the new token to establish a full access connection for use with GSQL\n",
    "\n",
    "conn = tg.TigerGraphConnection(host=host, restppPort=restppPort, gsPort=gsPort, graphname=graphName, password=password, apiToken=token)\n",
    "# token"
   ]
  },
  {
   "cell_type": "markdown",
   "id": "42ea053f",
   "metadata": {},
   "source": [
    "# Algorithms"
   ]
  },
  {
   "cell_type": "markdown",
   "id": "322e732b",
   "metadata": {},
   "source": [
    "## PageRank - basic\n",
    "\n",
    "- [PageRank on Wikipedia](https://en.wikipedia.org/wiki/PageRank#Algorithmhttps://en.wikipedia.org/wiki/PageRank#Algorithm)\n",
    "- [TigerGraph algos link for PageRank](https://github.com/tigergraph/gsql-graph-algorithms/tree/master/algorithms/Centrality/pagerank)\n",
    "- [How To Calculate PageRank](http://www.seopt.com/2007/10/how-to-calculate-pagerank/)\n",
    "- [How is PageRank calculated?](https://www.scribd.com/document/54984557/How-is-PageRank-Calculatedhttps://www.scribd.com/document/54984557/How-is-PageRank-Calculated)\n",
    "\n",
    "> What happens when I link to your page and you link to mine? Then I need your PageRank to calculate mine, but you must know mine to calculate yours. The calculation seems to break down.\n",
    ">\n",
    "> The answer is that the PageRank formula must be calculated several times–it must be reiterated. Only after several iterations can we find any one page PageRank.\n",
    "\n",
    "PageRank is a centrality algo"
   ]
  },
  {
   "cell_type": "markdown",
   "id": "3c19e399",
   "metadata": {},
   "source": [
    "## TigerGraph's schema-free basic PageRank\n",
    "\n",
    "Code highlighting is being done using `pygmentize` here.\n",
    "\n",
    "Good style for Jupyter dark theme: fruity; for light theme: rrt or manni"
   ]
  },
  {
   "cell_type": "code",
   "execution_count": null,
   "id": "9fedaefe",
   "metadata": {
    "collapsed": false,
    "jupyter": {
     "outputs_hidden": false
    }
   },
   "outputs": [],
   "source": [
    "!curl -s 'https://raw.githubusercontent.com/tigergraph/gsql-graph-algorithms/master/algorithms/Centrality/pagerank/global/unweighted/tg_pagerank.gsql' | pygmentize -l gsql -O style=emacs -f terminal256"
   ]
  },
  {
   "cell_type": "code",
   "execution_count": null,
   "id": "47dcc8ec",
   "metadata": {
    "collapsed": false,
    "jupyter": {
     "outputs_hidden": false
    }
   },
   "outputs": [],
   "source": [
    "conn.gsql('USE GRAPH ')"
   ]
  },
  {
   "cell_type": "code",
   "execution_count": null,
   "id": "92b519cb",
   "metadata": {
    "collapsed": false,
    "jupyter": {
     "outputs_hidden": false
    }
   },
   "outputs": [],
   "source": [
    "print(conn.gsql('USE GRAPH ' + graphName\n",
    "              + '\\n'\n",
    "              + requests.get('https://raw.githubusercontent.com/tigergraph/gsql-graph-algorithms/master/algorithms/Centrality/pagerank/tg_pagerank.gsql').text\n",
    "              + 'INSTALL QUERY tg_pagerank'))"
   ]
  },
  {
   "cell_type": "code",
   "execution_count": null,
   "id": "f14a1f5c",
   "metadata": {
    "collapsed": false,
    "jupyter": {
     "outputs_hidden": false
    }
   },
   "outputs": [],
   "source": [
    "# Check PageRank for Reps - rep_order\n",
    "max_change    = 0.001     # default 0.001\n",
    "max_iter      = 25        # default 25\n",
    "damping       = 0.85      # default 0.85\n",
    "top_k         = 100       # default 100\n",
    "print_accum   = True      # default TRUE\n",
    "result_attr   = \"\"        # default \"\"\n",
    "file_path     = \"\"        # default \"\"\n",
    "display_edges = False     # default FALSE\n",
    "vtype = 'Reps'\n",
    "etype = 'rep_order'\n",
    "\n",
    "vtype = 'Application'\n",
    "etype = 'has_parent'\n",
    "\n",
    "vtype = \"Person\"\n",
    "etype = \"Friend\"\n",
    "pagerankj = conn.runInstalledQuery('tg_pagerank', \n",
    "                                   params={'v_type': vtype,\n",
    "                                           'max_iter': 25,\n",
    "                                           'e_type': etype,\n",
    "                                           'damping': damping,\n",
    "                                           'top_k': top_k,\n",
    "                                           'print_accum': print_accum,\n",
    "                                           'result_attr': result_attr,\n",
    "                                           'file_path': file_path,\n",
    "                                           'display_edges': display_edges\n",
    "                                          })\n",
    "pd.DataFrame(pagerankj[0]['@@top_scores_heap'])"
   ]
  },
  {
   "cell_type": "code",
   "execution_count": null,
   "id": "3ff08e10",
   "metadata": {
    "collapsed": false,
    "jupyter": {
     "outputs_hidden": false
    }
   },
   "outputs": [],
   "source": [
    "# Get all vertex types\n",
    "conn.getVertexTypes()"
   ]
  },
  {
   "cell_type": "code",
   "execution_count": null,
   "id": "b29094e8-5c82-4579-b0cb-1764e9c5e153",
   "metadata": {},
   "outputs": [],
   "source": [
    "conn.getVertexCount(vertexType='Person')"
   ]
  },
  {
   "cell_type": "code",
   "execution_count": null,
   "id": "fa68a178-e5e2-427d-a232-dfad051ada47",
   "metadata": {},
   "outputs": [],
   "source": [
    "conn.getVertexType(vertexType='Person')"
   ]
  },
  {
   "cell_type": "code",
   "execution_count": null,
   "id": "0f15882f",
   "metadata": {
    "collapsed": false,
    "jupyter": {
     "outputs_hidden": false
    }
   },
   "outputs": [],
   "source": [
    "# Check PageRank for Reps - rep_order\n",
    "max_change    = 0.001     # default 0.001\n",
    "max_iter      = 25        # default 25\n",
    "damping       = 0.85      # default 0.85\n",
    "top_k         = 100       # default 100\n",
    "print_accum   = True      # default TRUE\n",
    "result_attr   = \"\"        # default \"\"\n",
    "file_path     = \"\"        # default \"\"\n",
    "display_edges = False     # default FALSE\n",
    "vtype = 'Reps'\n",
    "etype = 'rep_order'\n",
    "\n",
    "vtype = 'Application'\n",
    "etype = 'has_parent'\n",
    "\n",
    "vtype = \"Person\"\n",
    "etype = \"Friend\"\n",
    "pagerankj = conn.runInstalledQuery('tg_pagerank', \n",
    "                                   params={'v_type': vtype,\n",
    "                                           'max_iter': 50,\n",
    "                                           'e_type': etype,\n",
    "                                           'damping': damping,\n",
    "                                           'top_k': top_k,\n",
    "                                           'print_accum': print_accum,\n",
    "                                           'result_attr': result_attr,\n",
    "                                           'file_path': file_path,\n",
    "                                           'display_edges': display_edges\n",
    "                                          })\n",
    "pd.DataFrame(pagerankj[0]['@@top_scores_heap'])"
   ]
  },
  {
   "cell_type": "markdown",
   "id": "0d391521",
   "metadata": {},
   "source": [
    "## Dudas\n",
    "\n",
    "Ok - here's something mystifying to me - there are only a few connected nodes in the graph - currently only these\n",
    "<div>\n",
    "<img src=\"images/simple-friend-graph-01.png\" width=\"500\"/>\n",
    "</div>\n",
    "\n",
    "**Only** Bob, Chase, Alex, Fiona and Justin have friends.  Justin with two incoming edges and no outgoing edges, has a score of 1, as do **all** unconnected nodes.  It appears that this version of PageRank gives a score of 1 to all nodes with zero outdegree.  "
   ]
  },
  {
   "cell_type": "code",
   "execution_count": null,
   "id": "9b2feb14",
   "metadata": {
    "collapsed": false,
    "jupyter": {
     "outputs_hidden": false
    }
   },
   "outputs": [],
   "source": [
    "conn.getVertexDataframe('Person')\n",
    "\n",
    "conn.getEdgesDataframe('Person', 'Fiona')"
   ]
  },
  {
   "cell_type": "markdown",
   "id": "c1918796",
   "metadata": {},
   "source": [
    "## PageRank exploration on larger graphs"
   ]
  },
  {
   "cell_type": "code",
   "execution_count": null,
   "id": "55c10dbc",
   "metadata": {
    "collapsed": false,
    "jupyter": {
     "outputs_hidden": false
    }
   },
   "outputs": [],
   "source": [
    "# Use Customer360\n",
    "graphName = \"Customer360\"\n",
    "mysecret = \"q6g6qa738ufhnm4fqmu7pl60ik6jcrld\"\n",
    "token = \"7vib70gv06eaesnocp5u3tvgmgmg8e1a\"\n",
    "# token = \"9icvamj2undegsfc72e5uph8udj2f3nf\"\n",
    "\n",
    "# First establish a basic connection using a secret.  Do *not* do this if you already have a token\n",
    "# conn = tg.TigerGraphConnection(host=host, restppPort=restppPort, gsPort=gsPort, graphname=graphName, password=password)\n",
    "# token = conn.getToken(mysecret, setToken=True, lifetime=None)[0]\n",
    "\n",
    "# Next use the new token to establish a full access connection for use with GSQL\n",
    "\n",
    "conn = tg.TigerGraphConnection(host=host, restppPort=restppPort, gsPort=gsPort, graphname=graphName, password=password, apiToken=token)\n",
    "# token\n"
   ]
  },
  {
   "cell_type": "code",
   "execution_count": null,
   "id": "e0a015f0",
   "metadata": {
    "collapsed": false,
    "jupyter": {
     "outputs_hidden": false
    }
   },
   "outputs": [],
   "source": [
    "# all vertex types\n",
    "conn.getVertexTypes()\n",
    "\n"
   ]
  },
  {
   "cell_type": "code",
   "execution_count": null,
   "id": "306d154a",
   "metadata": {
    "collapsed": false,
    "jupyter": {
     "outputs_hidden": false
    }
   },
   "outputs": [],
   "source": [
    "# Check PageRank for Reps - rep_order\n",
    "max_change    = 0.001     # default 0.001\n",
    "max_iter      = 25        # default 25\n",
    "damping       = 0.85      # default 0.85\n",
    "top_k         = 100       # default 100\n",
    "print_accum   = True      # default TRUE\n",
    "result_attr   = \"\"        # default \"\"\n",
    "file_path     = \"\"        # default \"\"\n",
    "display_edges = False     # default FALSE\n",
    "\n",
    "vtype = \"Profile\"\n",
    "etype = \"profile_friends\"\n",
    "pagerankj = conn.runInstalledQuery('tg_pagerank', \n",
    "                                   params={'v_type': vtype,\n",
    "                                           'max_iter': 50,\n",
    "                                           'e_type': etype,\n",
    "                                           'damping': damping,\n",
    "                                           'top_k': top_k,\n",
    "                                           'print_accum': print_accum,\n",
    "                                           'result_attr': result_attr,\n",
    "                                           'file_path': file_path,\n",
    "                                           'display_edges': display_edges\n",
    "                                          })\n",
    "pd.DataFrame(pagerankj[0]['@@top_scores_heap'])"
   ]
  },
  {
   "cell_type": "code",
   "execution_count": null,
   "id": "e04563f4",
   "metadata": {
    "collapsed": false,
    "jupyter": {
     "outputs_hidden": false
    }
   },
   "outputs": [],
   "source": [
    "# conn.getVertexDataframe('Profile')\n",
    "conn.getVertexDataframeById('Profile', vertexIds=[8157, 4139, 3090])"
   ]
  },
  {
   "cell_type": "code",
   "execution_count": null,
   "id": "575508ea",
   "metadata": {
    "collapsed": false,
    "jupyter": {
     "outputs_hidden": false
    }
   },
   "outputs": [],
   "source": [
    "import matplotlib.pyplot as plt\n",
    "fig, ax = plt.subplots()\n",
    "ax.plot([1, 2, 3, 4], [1, 4, 2, 3])\n",
    "pass\n"
   ]
  },
  {
   "cell_type": "code",
   "execution_count": null,
   "id": "60ad5d96",
   "metadata": {
    "collapsed": false,
    "jupyter": {
     "outputs_hidden": false
    }
   },
   "outputs": [],
   "source": [
    "conn.runInstalledQuery('bookRecommendation', params={'inputProfile': 11178 })"
   ]
  },
  {
   "cell_type": "markdown",
   "id": "a857db9c",
   "metadata": {},
   "source": [
    "# Latex examples (use Markdown block)\n"
   ]
  },
  {
   "cell_type": "markdown",
   "id": "eec6f4b0",
   "metadata": {},
   "source": [
    "Euler's identity: $$ e^{i \\pi} + 1 = 0 $$"
   ]
  },
  {
   "cell_type": "markdown",
   "id": "5d8279dc",
   "metadata": {},
   "source": [
    "$$\n",
    "\\frac{arg 1}{arg 2} \\\\\n",
    "x^2\\\\\n",
    "e^{i\\pi}\\\\\n",
    "A_i\\\\\n",
    "B_{ij}\\\\\n",
    "\\sqrt[n]{arg}\n",
    "$$"
   ]
  },
  {
   "cell_type": "markdown",
   "id": "c6380914",
   "metadata": {},
   "source": [
    "\n",
    "$$\n",
    "\\frac{arg 1}{arg 2} \\\n",
    "x^2\n",
    "$$\n"
   ]
  },
  {
   "cell_type": "markdown",
   "id": "87dd9865",
   "metadata": {},
   "source": [
    "Given : $\\pi = 3.14$ , $\\alpha = \\frac{3\\pi}{4}\\, rad$\n",
    "$$\n",
    "\\omega = 2\\pi f \n",
    "$$\n",
    "$$\n",
    "f = \\frac{c}{\\lambda}\\\\\n",
    "\\lambda_0=\\theta^2+\\delta\\\\\n",
    "\\Delta\\lambda = \\frac{1}{\\lambda^2}\n",
    "$$"
   ]
  },
  {
   "cell_type": "markdown",
   "id": "0d890df7",
   "metadata": {},
   "source": [
    "$\\sum_{i=0}^n i^2 = \\frac{(n^2+n)(2n+1)}{6}$\n"
   ]
  },
  {
   "cell_type": "markdown",
   "id": "20c37b10",
   "metadata": {},
   "source": [
    "$$ \n",
    "\\sum_{i=0}^n i^2 = \\frac{(n^2+n)(2n+1)}{6}\n",
    "$$\n",
    "$$\n",
    "1 + 2\n",
    "$$\n"
   ]
  },
  {
   "cell_type": "code",
   "execution_count": null,
   "id": "db3b7d79",
   "metadata": {
    "collapsed": false,
    "jupyter": {
     "outputs_hidden": false
    }
   },
   "outputs": [],
   "source": [
    "# from pygments import highlight\n",
    "# from pygments.lexers import SqlLexer\n",
    "# from pygments.formatters import HtmlFormatter\n",
    "# from IPython.core.display import HTML\n",
    "# from pygments.lexers import gsql\n",
    "# # from pygments.formatters import gsql\n",
    "\n",
    "\n",
    "# display(gsql, 'CREATE graph poodle()')"
   ]
  },
  {
   "cell_type": "code",
   "execution_count": null,
   "id": "edb8ec62",
   "metadata": {
    "collapsed": false,
    "jupyter": {
     "outputs_hidden": false
    }
   },
   "outputs": [],
   "source": [
    "!which -a pygmentize"
   ]
  },
  {
   "cell_type": "code",
   "execution_count": null,
   "id": "944b5885",
   "metadata": {
    "collapsed": false,
    "jupyter": {
     "outputs_hidden": false
    }
   },
   "outputs": [],
   "source": [
    "!pygmentize  -O style=emacs -f terminal256 /home/gregj/projects/homelab/graph/tigergraph/solutions/patents/01-create-schema.gsql"
   ]
  },
  {
   "cell_type": "code",
   "execution_count": null,
   "id": "e3a7a41d",
   "metadata": {
    "collapsed": false,
    "jupyter": {
     "outputs_hidden": false
    }
   },
   "outputs": [],
   "source": []
  }
 ],
 "metadata": {
  "kernelspec": {
   "display_name": "Python 3 (ipykernel)",
   "language": "python",
   "name": "python3"
  },
  "language_info": {
   "codemirror_mode": {
    "name": "ipython",
    "version": 3
   },
   "file_extension": ".py",
   "mimetype": "text/x-python",
   "name": "python",
   "nbconvert_exporter": "python",
   "pygments_lexer": "ipython3",
   "version": "3.10.8"
  },
  "name": "Explore TigerGraph Algorithms.ipynb"
 },
 "nbformat": 4,
 "nbformat_minor": 5
}
