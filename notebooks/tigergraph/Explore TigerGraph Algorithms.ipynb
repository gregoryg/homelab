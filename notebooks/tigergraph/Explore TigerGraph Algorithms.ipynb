{
 "cells": [
  {
   "cell_type": "markdown",
   "id": "78ad00e4",
   "metadata": {},
   "source": [
    "# Exploring Algorithms\n",
    "\n",
    "Using TigerGraph schema-free public algorithms at https://github.com/tigergraph/gsql-graph-algorithms\n"
   ]
  },
  {
   "cell_type": "code",
   "execution_count": 1,
   "id": "27e6d2d8-3b70-4171-bcc2-02891e4756be",
   "metadata": {
    "collapsed": false,
    "jupyter": {
     "outputs_hidden": false
    }
   },
   "outputs": [],
   "source": [
    "from configparser import ConfigParser\n",
    "\n",
    "import pandas as pd\n",
    "# Set up pyTigerGraph acces\n",
    "import pyTigerGraph as tg"
   ]
  },
  {
   "cell_type": "code",
   "execution_count": 2,
   "id": "97697930-0036-490a-83c7-8922f0b5d7af",
   "metadata": {
    "collapsed": false,
    "jupyter": {
     "outputs_hidden": false
    }
   },
   "outputs": [],
   "source": [
    "parser = ConfigParser()\n",
    "_ = parser.read('../CREDENTIALS.config') # contains DEFAULT section plus override sections\n",
    "\n",
    "host = parser.get('mayoclinic', 'host')\n",
    "username = parser.get('mayoclinic', 'user')\n",
    "password = parser.get('mayoclinic', 'password')\n",
    "gsPort = parser.get('mayoclinic', 'gsPort')\n",
    "apiPort = parser.get('mayoclinic', 'apiPort')\n",
    "\n",
    "graphName = 'Northwind'\n",
    "\n",
    "\n",
    "# Prepare to pull our GSQL algorithms from GitHub\n",
    "import requests\n",
    "\n",
    "\n",
    "host       = \"http://protomolecule.magichome\" # must include the protocol http or https\n",
    "username   = \"tigergraph\"\n",
    "password   = \"Tigergraph\"\n",
    "restppPort = 9000       # default 9000\n",
    "gsPort     = 14240       # default 14240\n",
    "\n",
    "# graphName  = \"Northwind\" # leave blank to use Global\n",
    "# mysecret   = \"7vcupj59t7p4ji9t0k3s72nm4bheilig\"\n",
    "# token=\"4vsf41mpl57e6m19pf0c5q1eah6h6jm5\"\n",
    "\n",
    "graphName = \"Patents\"\n",
    "mysecret = \"iksujn9605n4ltklm012a6uiann87rrn\"\n",
    "token = \"15bg00akkb2ume2of295ld38h6ge9270\"\n",
    "\n",
    "graphName = \"social\"\n",
    "mysecret = \"ifn4pc4jnkktim9u80ahhvebkj38g71n\"\n",
    "token = \"9icvamj2undegsfc72e5uph8udj2f3nf\"\n",
    "\n",
    "# First establish a basic connection using a secret.  Do *not* do this if you already have a token\n",
    "# conn = tg.TigerGraphConnection(host=host, restppPort=restppPort, gsPort=gsPort, graphname=graphName, password=password)\n",
    "# token = conn.getToken(mysecret, setToken=True, lifetime=None)[0]\n",
    "\n",
    "# Next use the new token to establish a full access connection for use with GSQL\n",
    "\n",
    "conn = tg.TigerGraphConnection(host=host, restppPort=restppPort, gsPort=gsPort, graphname=graphName, password=password, apiToken=token)\n",
    "# token"
   ]
  },
  {
   "cell_type": "markdown",
   "id": "42ea053f",
   "metadata": {},
   "source": [
    "# Algorithms"
   ]
  },
  {
   "cell_type": "markdown",
   "id": "322e732b",
   "metadata": {},
   "source": [
    "## PageRank - basic\n",
    "\n",
    "- [PageRank on Wikipedia](https://en.wikipedia.org/wiki/PageRank#Algorithmhttps://en.wikipedia.org/wiki/PageRank#Algorithm)\n",
    "- [TigerGraph algos link for PageRank](https://github.com/tigergraph/gsql-graph-algorithms/tree/master/algorithms/Centrality/pagerank)\n",
    "- [How To Calculate PageRank](http://www.seopt.com/2007/10/how-to-calculate-pagerank/)\n",
    "- [How is PageRank calculated?](https://www.scribd.com/document/54984557/How-is-PageRank-Calculatedhttps://www.scribd.com/document/54984557/How-is-PageRank-Calculated)\n",
    "\n",
    "> What happens when I link to your page and you link to mine? Then I need your PageRank to calculate mine, but you must know mine to calculate yours. The calculation seems to break down.\n",
    ">\n",
    "> The answer is that the PageRank formula must be calculated several times–it must be reiterated. Only after several iterations can we find any one page PageRank.\n",
    "\n",
    "PageRank is a centrality algo"
   ]
  },
  {
   "cell_type": "markdown",
   "id": "3c19e399",
   "metadata": {},
   "source": [
    "## TigerGraph's schema-free basic PageRank\n",
    "\n",
    "Code highlighting is being done using `pygmentize` here.\n",
    "\n",
    "Good style for Jupyter dark theme: fruity; for light theme: rrt or manni"
   ]
  },
  {
   "cell_type": "code",
   "execution_count": 4,
   "id": "9fedaefe",
   "metadata": {
    "collapsed": false,
    "jupyter": {
     "outputs_hidden": false
    }
   },
   "outputs": [
    {
     "name": "stdout",
     "output_type": "stream",
     "text": [
      "\u001b[38;5;129;01mCREATE\u001b[39;00m\u001b[38;5;250m \u001b[39m\u001b[38;5;129;01mQUERY\u001b[39;00m\u001b[38;5;250m \u001b[39mtg_pagerank\u001b[38;5;250m \u001b[39m\u001b[38;5;241m(\u001b[39m\u001b[38;5;129;01mSTRING\u001b[39;00m\u001b[38;5;250m \u001b[39mv_type\u001b[38;5;241m,\u001b[39m\u001b[38;5;250m \u001b[39m\u001b[38;5;129;01mSTRING\u001b[39;00m\u001b[38;5;250m \u001b[39me_type\u001b[38;5;241m,\u001b[39m\n",
      "\u001b[38;5;250m \u001b[39m\u001b[38;5;129;01mFLOAT\u001b[39;00m\u001b[38;5;250m \u001b[39mmax_change\u001b[38;5;241m=\u001b[39m\u001b[38;5;241m0.001\u001b[39m\u001b[38;5;241m,\u001b[39m\u001b[38;5;250m \u001b[39m\u001b[38;5;129;01mINT\u001b[39;00m\u001b[38;5;250m \u001b[39mmax_iter\u001b[38;5;241m=\u001b[39m\u001b[38;5;241m25\u001b[39m\u001b[38;5;241m,\u001b[39m\u001b[38;5;250m \u001b[39m\u001b[38;5;129;01mFLOAT\u001b[39;00m\u001b[38;5;250m \u001b[39mdamping\u001b[38;5;241m=\u001b[39m\u001b[38;5;241m0.85\u001b[39m\u001b[38;5;241m,\u001b[39m\u001b[38;5;250m \u001b[39m\u001b[38;5;129;01mINT\u001b[39;00m\u001b[38;5;250m \u001b[39mtop_k\u001b[38;5;250m \u001b[39m\u001b[38;5;241m=\u001b[39m\u001b[38;5;250m \u001b[39m\u001b[38;5;241m100\u001b[39m\u001b[38;5;241m,\u001b[39m\n",
      "\u001b[38;5;250m \u001b[39m\u001b[38;5;129;01mBOOL\u001b[39;00m\u001b[38;5;250m \u001b[39mprint_accum\u001b[38;5;250m \u001b[39m\u001b[38;5;241m=\u001b[39m\u001b[38;5;250m \u001b[39m\u001b[38;5;129;01mTRUE\u001b[39;00m\u001b[38;5;241m,\u001b[39m\u001b[38;5;250m \u001b[39m\u001b[38;5;129;01mSTRING\u001b[39;00m\u001b[38;5;250m \u001b[39mresult_attr\u001b[38;5;250m \u001b[39m\u001b[38;5;241m=\u001b[39m\u001b[38;5;250m  \u001b[39m\u001b[38;5;131m\"\"\u001b[39m\u001b[38;5;241m,\u001b[39m\u001b[38;5;250m \u001b[39m\u001b[38;5;129;01mSTRING\u001b[39;00m\u001b[38;5;250m \u001b[39mfile_path\u001b[38;5;250m \u001b[39m\u001b[38;5;241m=\u001b[39m\u001b[38;5;250m \u001b[39m\u001b[38;5;131m\"\"\u001b[39m\u001b[38;5;241m,\u001b[39m\n",
      "\u001b[38;5;250m \u001b[39m\u001b[38;5;129;01mBOOL\u001b[39;00m\u001b[38;5;250m \u001b[39mdisplay_edges\u001b[38;5;250m \u001b[39m\u001b[38;5;241m=\u001b[39m\u001b[38;5;250m \u001b[39m\u001b[38;5;129;01mFALSE\u001b[39;00m\u001b[38;5;241m)\u001b[39m\u001b[38;5;250m \u001b[39m\u001b[38;5;129;01mSYNTAX\u001b[39;00m\u001b[38;5;250m \u001b[39mV1\u001b[38;5;250m \u001b[39m{\n",
      "\n",
      "\u001b[38;5;28;03m/*\u001b[39;00m\n",
      "\u001b[38;5;28;03m Compute the pageRank score for each vertex in the GRAPH\u001b[39;00m\n",
      "\u001b[38;5;28;03m In each iteration, compute a score for each vertex:\u001b[39;00m\n",
      "\u001b[38;5;28;03m     score = (1-damping) + damping*sum(received scores FROM its neighbors).\u001b[39;00m\n",
      "\u001b[38;5;28;03m The pageRank algorithm stops when either of the following is true:\u001b[39;00m\n",
      "\u001b[38;5;28;03m a) it reaches max_iter iterations;\u001b[39;00m\n",
      "\u001b[38;5;28;03m b) the max score change for any vertex compared to the last iteration <= max_change.\u001b[39;00m\n",
      "\u001b[38;5;28;03m v_type: vertex types to traverse          print_accum: print JSON output\u001b[39;00m\n",
      "\u001b[38;5;28;03m e_type: edge types to traverse            result_attr: INT attr to store results to\u001b[39;00m\n",
      "\u001b[38;5;28;03m max_iter; max #iterations                 file_path: file to write CSV output to\u001b[39;00m\n",
      "\u001b[38;5;28;03m top_k: #top scores to output              display_edges: output edges for visualization\u001b[39;00m\n",
      "\u001b[38;5;28;03m max_change: max allowed change between iterations to achieve convergence\u001b[39;00m\n",
      "\u001b[38;5;28;03m damping: importance of traversal vs. random teleport\u001b[39;00m\n",
      "\n",
      "\u001b[38;5;28;03m This query supports only taking in a single edge for the time being (8/13/2020).\u001b[39;00m\n",
      "\u001b[38;5;28;03m*/\u001b[39;00m\n",
      "\u001b[38;5;129;01mTYPEDEF\u001b[39;00m\u001b[38;5;250m \u001b[39m\u001b[38;5;129;01mTUPLE\u001b[39;00m<\u001b[38;5;129;01mVERTEX\u001b[39;00m\u001b[38;5;250m \u001b[39mVertex_ID\u001b[38;5;241m,\u001b[39m\u001b[38;5;250m \u001b[39m\u001b[38;5;129;01mFLOAT\u001b[39;00m\u001b[38;5;250m \u001b[39mscore>\u001b[38;5;250m \u001b[39mVertex_Score\u001b[38;5;241m;\u001b[39m\n",
      "\u001b[38;5;129mHeapAccum\u001b[39m<Vertex_Score>\u001b[38;5;241m(\u001b[39mtop_k\u001b[38;5;241m,\u001b[39m\u001b[38;5;250m \u001b[39mscore\u001b[38;5;250m \u001b[39m\u001b[38;5;129;01mDESC\u001b[39;00m\u001b[38;5;241m)\u001b[39m\u001b[38;5;250m \u001b[39m\u001b[38;5;136m@@top_scores_heap\u001b[39m\u001b[38;5;241m;\u001b[39m\n",
      "\u001b[38;5;129mMaxAccum\u001b[39m<\u001b[38;5;129;01mFLOAT\u001b[39;00m>\u001b[38;5;250m \u001b[39m\u001b[38;5;136m@@max_diff\u001b[39m\u001b[38;5;250m \u001b[39m\u001b[38;5;241m=\u001b[39m\u001b[38;5;250m \u001b[39m\u001b[38;5;241m9999\u001b[39m\u001b[38;5;241m;\u001b[39m\u001b[38;5;250m    \u001b[39m\u001b[38;5;28;03m# max score change in an iteration\u001b[39;00m\n",
      "\u001b[38;5;129mSumAccum\u001b[39m<\u001b[38;5;129;01mFLOAT\u001b[39;00m>\u001b[38;5;250m \u001b[39m\u001b[38;5;136m@sum_recvd_score\u001b[39m\u001b[38;5;250m \u001b[39m\u001b[38;5;241m=\u001b[39m\u001b[38;5;250m \u001b[39m\u001b[38;5;241m0\u001b[39m\u001b[38;5;241m;\u001b[39m\u001b[38;5;250m \u001b[39m\u001b[38;5;28;03m# sum of scores each vertex receives FROM neighbors\u001b[39;00m\n",
      "\u001b[38;5;129mSumAccum\u001b[39m<\u001b[38;5;129;01mFLOAT\u001b[39;00m>\u001b[38;5;250m \u001b[39m\u001b[38;5;136m@sum_score\u001b[39m\u001b[38;5;250m \u001b[39m\u001b[38;5;241m=\u001b[39m\u001b[38;5;250m \u001b[39m\u001b[38;5;241m1\u001b[39m\u001b[38;5;241m;\u001b[39m\u001b[38;5;250m           \u001b[39m\u001b[38;5;28;03m# initial score for every vertex is 1.\u001b[39;00m\n",
      "\u001b[38;5;129mSetAccum\u001b[39m<\u001b[38;5;129;01mEDGE\u001b[39;00m>\u001b[38;5;250m \u001b[39m\u001b[38;5;136m@@edge_set\u001b[39m\u001b[38;5;241m;\u001b[39m\u001b[38;5;250m             \u001b[39m\u001b[38;5;28;03m# list of all edges, if display is needed\u001b[39;00m\n",
      "\u001b[38;5;129;01mFILE\u001b[39;00m\u001b[38;5;250m \u001b[39mf\u001b[38;5;250m \u001b[39m\u001b[38;5;241m(\u001b[39mfile_path\u001b[38;5;241m)\u001b[39m\u001b[38;5;241m;\u001b[39m\n",
      "\n",
      "\u001b[38;5;28;03m# PageRank iterations\t\u001b[39;00m\n",
      "Start\u001b[38;5;250m \u001b[39m\u001b[38;5;241m=\u001b[39m\u001b[38;5;250m \u001b[39m{v_type}\u001b[38;5;241m;\u001b[39m\u001b[38;5;250m                     \u001b[39m\u001b[38;5;28;03m# Start with all vertices of specified type(s)\u001b[39;00m\n",
      "\u001b[38;5;129;01mWHILE\u001b[39;00m\u001b[38;5;250m \u001b[39m\u001b[38;5;136m@@max_diff\u001b[39m\u001b[38;5;250m \u001b[39m>\u001b[38;5;250m \u001b[39mmax_change\u001b[38;5;250m \u001b[39m\n",
      "\u001b[38;5;250m    \u001b[39m\u001b[38;5;129;01mLIMIT\u001b[39;00m\u001b[38;5;250m \u001b[39mmax_iter\u001b[38;5;250m \u001b[39m\u001b[38;5;129;01mDO\u001b[39;00m\n",
      "\u001b[38;5;250m        \u001b[39m\u001b[38;5;136m@@max_diff\u001b[39m\u001b[38;5;250m \u001b[39m\u001b[38;5;241m=\u001b[39m\u001b[38;5;250m \u001b[39m\u001b[38;5;241m0\u001b[39m\u001b[38;5;241m;\u001b[39m\n",
      "\u001b[38;5;250m    \u001b[39mV\u001b[38;5;250m \u001b[39m\u001b[38;5;241m=\u001b[39m\u001b[38;5;250m \u001b[39m\u001b[38;5;129;01mSELECT\u001b[39;00m\u001b[38;5;250m \u001b[39ms\n",
      "\u001b[38;5;250m\t\u001b[39m\u001b[38;5;129;01mFROM\u001b[39;00m\u001b[38;5;250m \u001b[39mStart\u001b[38;5;241m:\u001b[39ms\u001b[38;5;250m \u001b[39m\u001b[38;5;241m-\u001b[39m\u001b[38;5;241m(\u001b[39me_type\u001b[38;5;241m:\u001b[39me\u001b[38;5;241m)\u001b[39m\u001b[38;5;241m-\u001b[39m\u001b[38;5;250m \u001b[39mv_type\u001b[38;5;241m:\u001b[39mt\n",
      "\u001b[38;5;250m\t\u001b[39m\u001b[38;5;129;01mACCUM\u001b[39;00m\u001b[38;5;250m \u001b[39m\n",
      "\u001b[38;5;250m            \u001b[39mt.\u001b[38;5;136m@sum_recvd_score\u001b[39m\u001b[38;5;250m \u001b[39m\u001b[38;5;241m+= \u001b[39ms.\u001b[38;5;136m@sum_score\u001b[39m\u001b[38;5;241m/\u001b[39m\u001b[38;5;241m(\u001b[39ms.outdegree\u001b[38;5;241m(\u001b[39me_type\u001b[38;5;241m)\u001b[39m\u001b[38;5;241m)\u001b[39m\u001b[38;5;250m \u001b[39m\n",
      "\u001b[38;5;250m\t\u001b[39m\u001b[38;5;129;01mPOST-ACCUM\u001b[39;00m\u001b[38;5;250m \u001b[39m\n",
      "\u001b[38;5;250m            \u001b[39ms.\u001b[38;5;136m@sum_score\u001b[39m\u001b[38;5;250m \u001b[39m\u001b[38;5;241m=\u001b[39m\u001b[38;5;250m \u001b[39m\u001b[38;5;241m(\u001b[39m\u001b[38;5;241m1.0\u001b[39m\u001b[38;5;241m-\u001b[39mdamping\u001b[38;5;241m)\u001b[39m\u001b[38;5;250m \u001b[39m\u001b[38;5;241m+\u001b[39m\u001b[38;5;250m \u001b[39mdamping\u001b[38;5;250m \u001b[39m*\u001b[38;5;250m \u001b[39ms.\u001b[38;5;136m@sum_recvd_score\u001b[39m\u001b[38;5;241m,\u001b[39m\n",
      "\u001b[38;5;250m\t    \u001b[39ms.\u001b[38;5;136m@sum_recvd_score\u001b[39m\u001b[38;5;250m \u001b[39m\u001b[38;5;241m=\u001b[39m\u001b[38;5;250m \u001b[39m\u001b[38;5;241m0\u001b[39m\u001b[38;5;241m,\u001b[39m\n",
      "\u001b[38;5;250m\t    \u001b[39m\u001b[38;5;136m@@max_diff\u001b[39m\u001b[38;5;250m \u001b[39m\u001b[38;5;241m+= \u001b[39mabs\u001b[38;5;241m(\u001b[39ms.\u001b[38;5;136m@sum_score\u001b[39m\u001b[38;5;250m \u001b[39m\u001b[38;5;241m-\u001b[39m\u001b[38;5;250m \u001b[39ms.\u001b[38;5;136m@sum_score\u001b[39m'\u001b[38;5;241m)\u001b[39m\u001b[38;5;241m;\u001b[39m\n",
      "\u001b[38;5;129;01mEND\u001b[39;00m\u001b[38;5;241m;\u001b[39m\u001b[38;5;250m \u001b[39m\u001b[38;5;28;03m# END WHILE loop\u001b[39;00m\n",
      "\n",
      "\u001b[38;5;28;03m# Output\u001b[39;00m\n",
      "\u001b[38;5;129;01mIF\u001b[39;00m\u001b[38;5;250m \u001b[39mfile_path\u001b[38;5;250m \u001b[39m\u001b[38;5;241m!= \u001b[39m\u001b[38;5;131m\"\"\u001b[39m\u001b[38;5;250m \u001b[39m\u001b[38;5;129;01mTHEN\u001b[39;00m\n",
      "\u001b[38;5;250m    \u001b[39mf.println\u001b[38;5;241m(\u001b[39m\u001b[38;5;131m\"Vertex_ID\"\u001b[39m\u001b[38;5;241m,\u001b[39m\u001b[38;5;250m \u001b[39m\u001b[38;5;131m\"PageRank\"\u001b[39m\u001b[38;5;241m)\u001b[39m\u001b[38;5;241m;\u001b[39m\n",
      "\u001b[38;5;129;01mEND\u001b[39;00m\u001b[38;5;241m;\u001b[39m\n",
      "V\u001b[38;5;250m \u001b[39m\u001b[38;5;241m=\u001b[39m\u001b[38;5;250m \u001b[39m\u001b[38;5;129;01mSELECT\u001b[39;00m\u001b[38;5;250m \u001b[39ms\u001b[38;5;250m \u001b[39m\n",
      "\u001b[38;5;250m    \u001b[39m\u001b[38;5;129;01mFROM\u001b[39;00m\u001b[38;5;250m \u001b[39mStart\u001b[38;5;241m:\u001b[39ms\n",
      "\u001b[38;5;250m    \u001b[39m\u001b[38;5;129;01mPOST-ACCUM\u001b[39;00m\u001b[38;5;250m \u001b[39m\n",
      "\u001b[38;5;250m        \u001b[39m\u001b[38;5;129;01mIF\u001b[39;00m\u001b[38;5;250m \u001b[39mresult_attr\u001b[38;5;250m \u001b[39m\u001b[38;5;241m!= \u001b[39m\u001b[38;5;131m\"\"\u001b[39m\u001b[38;5;250m \u001b[39m\u001b[38;5;129;01mTHEN\u001b[39;00m\u001b[38;5;250m \u001b[39m\n",
      "\u001b[38;5;250m            \u001b[39ms.setAttr\u001b[38;5;241m(\u001b[39mresult_attr\u001b[38;5;241m,\u001b[39m\u001b[38;5;250m \u001b[39ms.\u001b[38;5;136m@sum_score\u001b[39m\u001b[38;5;241m)\u001b[39m\u001b[38;5;250m \u001b[39m\n",
      "\u001b[38;5;250m        \u001b[39m\u001b[38;5;129;01mEND\u001b[39;00m\u001b[38;5;241m,\u001b[39m\n",
      "\u001b[38;5;250m   \u001b[39m\n",
      "\u001b[38;5;250m\t\u001b[39m\u001b[38;5;129;01mIF\u001b[39;00m\u001b[38;5;250m \u001b[39mfile_path\u001b[38;5;250m \u001b[39m\u001b[38;5;241m!= \u001b[39m\u001b[38;5;131m\"\"\u001b[39m\u001b[38;5;250m \u001b[39m\u001b[38;5;129;01mTHEN\u001b[39;00m\u001b[38;5;250m \u001b[39m\n",
      "\u001b[38;5;250m            \u001b[39mf.println\u001b[38;5;241m(\u001b[39ms\u001b[38;5;241m,\u001b[39m\u001b[38;5;250m \u001b[39ms.\u001b[38;5;136m@sum_score\u001b[39m\u001b[38;5;241m)\u001b[39m\u001b[38;5;250m \u001b[39m\n",
      "\u001b[38;5;250m        \u001b[39m\u001b[38;5;129;01mEND\u001b[39;00m\u001b[38;5;241m,\u001b[39m\n",
      "\u001b[38;5;250m   \u001b[39m\n",
      "\u001b[38;5;250m\t\u001b[39m\u001b[38;5;129;01mIF\u001b[39;00m\u001b[38;5;250m \u001b[39mprint_accum\u001b[38;5;250m \u001b[39m\u001b[38;5;129;01mTHEN\u001b[39;00m\u001b[38;5;250m \u001b[39m\n",
      "\u001b[38;5;250m            \u001b[39m\u001b[38;5;136m@@top_scores_heap\u001b[39m\u001b[38;5;250m \u001b[39m\u001b[38;5;241m+= \u001b[39mVertex_Score\u001b[38;5;241m(\u001b[39ms\u001b[38;5;241m,\u001b[39m\u001b[38;5;250m \u001b[39ms.\u001b[38;5;136m@sum_score\u001b[39m\u001b[38;5;241m)\u001b[39m\u001b[38;5;250m \u001b[39m\n",
      "\u001b[38;5;250m        \u001b[39m\u001b[38;5;129;01mEND\u001b[39;00m\u001b[38;5;241m;\u001b[39m\n",
      "\n",
      "\u001b[38;5;129;01mIF\u001b[39;00m\u001b[38;5;250m \u001b[39mprint_accum\u001b[38;5;250m \u001b[39m\u001b[38;5;129;01mTHEN\u001b[39;00m\n",
      "\u001b[38;5;250m    \u001b[39m\u001b[38;5;129;01mPRINT\u001b[39;00m\u001b[38;5;250m \u001b[39m\u001b[38;5;136m@@top_scores_heap\u001b[39m\u001b[38;5;241m;\u001b[39m\n",
      "\u001b[38;5;250m    \u001b[39m\u001b[38;5;129;01mIF\u001b[39;00m\u001b[38;5;250m \u001b[39mdisplay_edges\u001b[38;5;250m \u001b[39m\u001b[38;5;129;01mTHEN\u001b[39;00m\n",
      "\u001b[38;5;250m        \u001b[39m\u001b[38;5;129;01mPRINT\u001b[39;00m\u001b[38;5;250m \u001b[39mStart[Start.\u001b[38;5;136m@sum_score\u001b[39m]\u001b[38;5;241m;\u001b[39m\n",
      "\u001b[38;5;250m\t\u001b[39mStart\u001b[38;5;250m \u001b[39m\u001b[38;5;241m=\u001b[39m\u001b[38;5;250m \u001b[39m\u001b[38;5;129;01mSELECT\u001b[39;00m\u001b[38;5;250m \u001b[39ms\n",
      "\u001b[38;5;250m\t        \u001b[39m\u001b[38;5;129;01mFROM\u001b[39;00m\u001b[38;5;250m \u001b[39mStart\u001b[38;5;241m:\u001b[39ms\u001b[38;5;250m \u001b[39m\u001b[38;5;241m-\u001b[39m\u001b[38;5;241m(\u001b[39me_type\u001b[38;5;241m:\u001b[39me\u001b[38;5;241m)\u001b[39m\u001b[38;5;241m-\u001b[39m\u001b[38;5;250m \u001b[39mv_type\u001b[38;5;241m:\u001b[39mt\n",
      "\u001b[38;5;250m\t        \u001b[39m\u001b[38;5;129;01mACCUM\u001b[39;00m\u001b[38;5;250m \u001b[39m\u001b[38;5;136m@@edge_set\u001b[39m\u001b[38;5;250m \u001b[39m\u001b[38;5;241m+= \u001b[39me\u001b[38;5;241m;\u001b[39m\n",
      "\u001b[38;5;250m        \u001b[39m\u001b[38;5;129;01mPRINT\u001b[39;00m\u001b[38;5;250m \u001b[39m\u001b[38;5;136m@@edge_set\u001b[39m\u001b[38;5;241m;\u001b[39m\n",
      "\u001b[38;5;250m    \u001b[39m\u001b[38;5;129;01mEND\u001b[39;00m\u001b[38;5;241m;\u001b[39m\n",
      "\u001b[38;5;129;01mEND\u001b[39;00m\u001b[38;5;241m;\u001b[39m\n",
      "}\n"
     ]
    }
   ],
   "source": [
    "!curl -s 'https://raw.githubusercontent.com/tigergraph/gsql-graph-algorithms/master/algorithms/Centrality/pagerank/global/unweighted/tg_pagerank.gsql' | pygmentize -l gsql -O style=emacs -f terminal256"
   ]
  },
  {
   "cell_type": "code",
   "execution_count": 5,
   "id": "47dcc8ec",
   "metadata": {
    "collapsed": false,
    "jupyter": {
     "outputs_hidden": false
    }
   },
   "outputs": [
    {
     "name": "stdout",
     "output_type": "stream",
     "text": [
      "Connection Failed check your Username/Password [Errno 111] Connection refused\n",
      "Couldn't Initialize the client see Above Error\n"
     ]
    },
    {
     "ename": "SystemExit",
     "evalue": "1",
     "output_type": "error",
     "traceback": [
      "An exception has occurred, use %tb to see the full traceback.\n",
      "\u001b[0;31mSystemExit\u001b[0m\u001b[0;31m:\u001b[0m 1\n"
     ]
    },
    {
     "name": "stderr",
     "output_type": "stream",
     "text": [
      "/home/gregj/.local/python-venvs/jupyter/lib/python3.10/site-packages/IPython/core/interactiveshell.py:3377: UserWarning: To exit: use 'exit', 'quit', or Ctrl-D.\n",
      "  warn(\"To exit: use 'exit', 'quit', or Ctrl-D.\", stacklevel=1)\n"
     ]
    }
   ],
   "source": [
    "conn.gsql('USE GRAPH ')"
   ]
  },
  {
   "cell_type": "code",
   "execution_count": null,
   "id": "92b519cb",
   "metadata": {
    "collapsed": false,
    "jupyter": {
     "outputs_hidden": false
    }
   },
   "outputs": [],
   "source": [
    "print(conn.gsql('USE GRAPH ' + graphName\n",
    "              + '\\n'\n",
    "              + requests.get('https://raw.githubusercontent.com/tigergraph/gsql-graph-algorithms/master/algorithms/Centrality/pagerank/tg_pagerank.gsql').text\n",
    "              + 'INSTALL QUERY tg_pagerank'))"
   ]
  },
  {
   "cell_type": "code",
   "execution_count": null,
   "id": "f14a1f5c",
   "metadata": {
    "collapsed": false,
    "jupyter": {
     "outputs_hidden": false
    }
   },
   "outputs": [],
   "source": [
    "# Check PageRank for Reps - rep_order\n",
    "max_change    = 0.001     # default 0.001\n",
    "max_iter      = 25        # default 25\n",
    "damping       = 0.85      # default 0.85\n",
    "top_k         = 100       # default 100\n",
    "print_accum   = True      # default TRUE\n",
    "result_attr   = \"\"        # default \"\"\n",
    "file_path     = \"\"        # default \"\"\n",
    "display_edges = False     # default FALSE\n",
    "vtype = 'Reps'\n",
    "etype = 'rep_order'\n",
    "\n",
    "vtype = 'Application'\n",
    "etype = 'has_parent'\n",
    "\n",
    "vtype = \"Person\"\n",
    "etype = \"Friend\"\n",
    "pagerankj = conn.runInstalledQuery('tg_pagerank', \n",
    "                                   params={'v_type': vtype,\n",
    "                                           'max_iter': 25,\n",
    "                                           'e_type': etype,\n",
    "                                           'damping': damping,\n",
    "                                           'top_k': top_k,\n",
    "                                           'print_accum': print_accum,\n",
    "                                           'result_attr': result_attr,\n",
    "                                           'file_path': file_path,\n",
    "                                           'display_edges': display_edges\n",
    "                                          })\n",
    "pd.DataFrame(pagerankj[0]['@@top_scores_heap'])"
   ]
  },
  {
   "cell_type": "code",
   "execution_count": null,
   "id": "3ff08e10",
   "metadata": {
    "collapsed": false,
    "jupyter": {
     "outputs_hidden": false
    }
   },
   "outputs": [],
   "source": [
    "# Get all vertex types\n",
    "conn.getVertexTypes()"
   ]
  },
  {
   "cell_type": "code",
   "execution_count": null,
   "id": "b29094e8-5c82-4579-b0cb-1764e9c5e153",
   "metadata": {},
   "outputs": [],
   "source": [
    "conn.getVertexCount(vertexType='Person')"
   ]
  },
  {
   "cell_type": "code",
   "execution_count": null,
   "id": "fa68a178-e5e2-427d-a232-dfad051ada47",
   "metadata": {},
   "outputs": [],
   "source": [
    "conn.getVertexType(vertexType='Person')"
   ]
  },
  {
   "cell_type": "code",
   "execution_count": null,
   "id": "0f15882f",
   "metadata": {
    "collapsed": false,
    "jupyter": {
     "outputs_hidden": false
    }
   },
   "outputs": [],
   "source": [
    "# Check PageRank for Reps - rep_order\n",
    "max_change    = 0.001     # default 0.001\n",
    "max_iter      = 25        # default 25\n",
    "damping       = 0.85      # default 0.85\n",
    "top_k         = 100       # default 100\n",
    "print_accum   = True      # default TRUE\n",
    "result_attr   = \"\"        # default \"\"\n",
    "file_path     = \"\"        # default \"\"\n",
    "display_edges = False     # default FALSE\n",
    "vtype = 'Reps'\n",
    "etype = 'rep_order'\n",
    "\n",
    "vtype = 'Application'\n",
    "etype = 'has_parent'\n",
    "\n",
    "vtype = \"Person\"\n",
    "etype = \"Friend\"\n",
    "pagerankj = conn.runInstalledQuery('tg_pagerank', \n",
    "                                   params={'v_type': vtype,\n",
    "                                           'max_iter': 50,\n",
    "                                           'e_type': etype,\n",
    "                                           'damping': damping,\n",
    "                                           'top_k': top_k,\n",
    "                                           'print_accum': print_accum,\n",
    "                                           'result_attr': result_attr,\n",
    "                                           'file_path': file_path,\n",
    "                                           'display_edges': display_edges\n",
    "                                          })\n",
    "pd.DataFrame(pagerankj[0]['@@top_scores_heap'])"
   ]
  },
  {
   "cell_type": "markdown",
   "id": "0d391521",
   "metadata": {},
   "source": [
    "## Dudas\n",
    "\n",
    "Ok - here's something mystifying to me - there are only a few connected nodes in the graph - currently only these\n",
    "<div>\n",
    "<img src=\"images/simple-friend-graph-01.png\" width=\"500\"/>\n",
    "</div>\n",
    "\n",
    "**Only** Bob, Chase, Alex, Fiona and Justin have friends.  Justin with two incoming edges and no outgoing edges, has a score of 1, as do **all** unconnected nodes.  It appears that this version of PageRank gives a score of 1 to all nodes with zero outdegree.  "
   ]
  },
  {
   "cell_type": "code",
   "execution_count": null,
   "id": "9b2feb14",
   "metadata": {
    "collapsed": false,
    "jupyter": {
     "outputs_hidden": false
    }
   },
   "outputs": [],
   "source": [
    "conn.getVertexDataframe('Person')\n",
    "\n",
    "conn.getEdgesDataframe('Person', 'Fiona')"
   ]
  },
  {
   "cell_type": "markdown",
   "id": "c1918796",
   "metadata": {},
   "source": [
    "## PageRank exploration on larger graphs"
   ]
  },
  {
   "cell_type": "code",
   "execution_count": null,
   "id": "55c10dbc",
   "metadata": {
    "collapsed": false,
    "jupyter": {
     "outputs_hidden": false
    }
   },
   "outputs": [],
   "source": [
    "# Use Customer360\n",
    "graphName = \"Customer360\"\n",
    "mysecret = \"q6g6qa738ufhnm4fqmu7pl60ik6jcrld\"\n",
    "token = \"7vib70gv06eaesnocp5u3tvgmgmg8e1a\"\n",
    "# token = \"9icvamj2undegsfc72e5uph8udj2f3nf\"\n",
    "\n",
    "# First establish a basic connection using a secret.  Do *not* do this if you already have a token\n",
    "# conn = tg.TigerGraphConnection(host=host, restppPort=restppPort, gsPort=gsPort, graphname=graphName, password=password)\n",
    "# token = conn.getToken(mysecret, setToken=True, lifetime=None)[0]\n",
    "\n",
    "# Next use the new token to establish a full access connection for use with GSQL\n",
    "\n",
    "conn = tg.TigerGraphConnection(host=host, restppPort=restppPort, gsPort=gsPort, graphname=graphName, password=password, apiToken=token)\n",
    "# token\n"
   ]
  },
  {
   "cell_type": "code",
   "execution_count": null,
   "id": "e0a015f0",
   "metadata": {
    "collapsed": false,
    "jupyter": {
     "outputs_hidden": false
    }
   },
   "outputs": [],
   "source": [
    "# all vertex types\n",
    "conn.getVertexTypes()\n",
    "\n"
   ]
  },
  {
   "cell_type": "code",
   "execution_count": null,
   "id": "306d154a",
   "metadata": {
    "collapsed": false,
    "jupyter": {
     "outputs_hidden": false
    }
   },
   "outputs": [],
   "source": [
    "# Check PageRank for Reps - rep_order\n",
    "max_change    = 0.001     # default 0.001\n",
    "max_iter      = 25        # default 25\n",
    "damping       = 0.85      # default 0.85\n",
    "top_k         = 100       # default 100\n",
    "print_accum   = True      # default TRUE\n",
    "result_attr   = \"\"        # default \"\"\n",
    "file_path     = \"\"        # default \"\"\n",
    "display_edges = False     # default FALSE\n",
    "\n",
    "vtype = \"Profile\"\n",
    "etype = \"profile_friends\"\n",
    "pagerankj = conn.runInstalledQuery('tg_pagerank', \n",
    "                                   params={'v_type': vtype,\n",
    "                                           'max_iter': 50,\n",
    "                                           'e_type': etype,\n",
    "                                           'damping': damping,\n",
    "                                           'top_k': top_k,\n",
    "                                           'print_accum': print_accum,\n",
    "                                           'result_attr': result_attr,\n",
    "                                           'file_path': file_path,\n",
    "                                           'display_edges': display_edges\n",
    "                                          })\n",
    "pd.DataFrame(pagerankj[0]['@@top_scores_heap'])"
   ]
  },
  {
   "cell_type": "code",
   "execution_count": null,
   "id": "e04563f4",
   "metadata": {
    "collapsed": false,
    "jupyter": {
     "outputs_hidden": false
    }
   },
   "outputs": [],
   "source": [
    "# conn.getVertexDataframe('Profile')\n",
    "conn.getVertexDataframeById('Profile', vertexIds=[8157, 4139, 3090])"
   ]
  },
  {
   "cell_type": "code",
   "execution_count": null,
   "id": "575508ea",
   "metadata": {
    "collapsed": false,
    "jupyter": {
     "outputs_hidden": false
    }
   },
   "outputs": [],
   "source": [
    "import matplotlib.pyplot as plt\n",
    "fig, ax = plt.subplots()\n",
    "ax.plot([1, 2, 3, 4], [1, 4, 2, 3])\n",
    "pass\n"
   ]
  },
  {
   "cell_type": "code",
   "execution_count": null,
   "id": "60ad5d96",
   "metadata": {
    "collapsed": false,
    "jupyter": {
     "outputs_hidden": false
    }
   },
   "outputs": [],
   "source": [
    "conn.runInstalledQuery('bookRecommendation', params={'inputProfile': 11178 })"
   ]
  },
  {
   "cell_type": "markdown",
   "id": "a857db9c",
   "metadata": {},
   "source": [
    "# Latex examples (use Markdown block)\n"
   ]
  },
  {
   "cell_type": "markdown",
   "id": "eec6f4b0",
   "metadata": {},
   "source": [
    "Euler's identity: $$ e^{i \\pi} + 1 = 0 $$"
   ]
  },
  {
   "cell_type": "markdown",
   "id": "5d8279dc",
   "metadata": {},
   "source": [
    "$$\n",
    "\\frac{arg 1}{arg 2} \\\\\n",
    "x^2\\\\\n",
    "e^{i\\pi}\\\\\n",
    "A_i\\\\\n",
    "B_{ij}\\\\\n",
    "\\sqrt[n]{arg}\n",
    "$$"
   ]
  },
  {
   "cell_type": "markdown",
   "id": "c6380914",
   "metadata": {},
   "source": [
    "\n",
    "$$\n",
    "\\frac{arg 1}{arg 2} \\\n",
    "x^2\n",
    "$$\n"
   ]
  },
  {
   "cell_type": "markdown",
   "id": "87dd9865",
   "metadata": {},
   "source": [
    "Given : $\\pi = 3.14$ , $\\alpha = \\frac{3\\pi}{4}\\, rad$\n",
    "$$\n",
    "\\omega = 2\\pi f \n",
    "$$\n",
    "$$\n",
    "f = \\frac{c}{\\lambda}\\\\\n",
    "\\lambda_0=\\theta^2+\\delta\\\\\n",
    "\\Delta\\lambda = \\frac{1}{\\lambda^2}\n",
    "$$"
   ]
  },
  {
   "cell_type": "markdown",
   "id": "0d890df7",
   "metadata": {},
   "source": [
    "$\\sum_{i=0}^n i^2 = \\frac{(n^2+n)(2n+1)}{6}$\n"
   ]
  },
  {
   "cell_type": "markdown",
   "id": "20c37b10",
   "metadata": {},
   "source": [
    "$$ \n",
    "\\sum_{i=0}^n i^2 = \\frac{(n^2+n)(2n+1)}{6}\n",
    "$$\n",
    "$$\n",
    "1 + 2\n",
    "$$\n"
   ]
  },
  {
   "cell_type": "code",
   "execution_count": null,
   "id": "db3b7d79",
   "metadata": {
    "collapsed": false,
    "jupyter": {
     "outputs_hidden": false
    }
   },
   "outputs": [],
   "source": [
    "# from pygments import highlight\n",
    "# from pygments.lexers import SqlLexer\n",
    "# from pygments.formatters import HtmlFormatter\n",
    "# from IPython.core.display import HTML\n",
    "# from pygments.lexers import gsql\n",
    "# # from pygments.formatters import gsql\n",
    "\n",
    "\n",
    "# display(gsql, 'CREATE graph poodle()')"
   ]
  },
  {
   "cell_type": "code",
   "execution_count": null,
   "id": "edb8ec62",
   "metadata": {
    "collapsed": false,
    "jupyter": {
     "outputs_hidden": false
    }
   },
   "outputs": [],
   "source": [
    "!which -a pygmentize"
   ]
  },
  {
   "cell_type": "code",
   "execution_count": null,
   "id": "944b5885",
   "metadata": {
    "collapsed": false,
    "jupyter": {
     "outputs_hidden": false
    }
   },
   "outputs": [],
   "source": [
    "!pygmentize  -O style=emacs -f terminal256 /home/gregj/projects/homelab/graph/tigergraph/solutions/patents/01-create-schema.gsql"
   ]
  },
  {
   "cell_type": "code",
   "execution_count": null,
   "id": "e3a7a41d",
   "metadata": {
    "collapsed": false,
    "jupyter": {
     "outputs_hidden": false
    }
   },
   "outputs": [],
   "source": []
  }
 ],
 "metadata": {
  "kernelspec": {
   "display_name": "Python 3 (ipykernel)",
   "language": "python",
   "name": "python3"
  },
  "language_info": {
   "codemirror_mode": {
    "name": "ipython",
    "version": 3
   },
   "file_extension": ".py",
   "mimetype": "text/x-python",
   "name": "python",
   "nbconvert_exporter": "python",
   "pygments_lexer": "ipython3",
   "version": "3.10.4"
  },
  "name": "Explore TigerGraph Algorithms.ipynb"
 },
 "nbformat": 4,
 "nbformat_minor": 5
}
