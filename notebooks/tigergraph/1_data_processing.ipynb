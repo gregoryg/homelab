{
 "cells": [
  {
   "cell_type": "markdown",
   "id": "5acd0f87-69b7-4696-8d30-a68218279bdc",
   "metadata": {},
   "source": [
    "# Data Processing"
   ]
  },
  {
   "cell_type": "markdown",
   "id": "6bb9e3e6-502b-422a-8dc2-51bcf13a3762",
   "metadata": {},
   "source": [
    "This notebook demonstrates how to use `tgml` for common data processing tasks on graphs stored in `TigerGraph`."
   ]
  },
  {
   "cell_type": "markdown",
   "id": "b1c820d8-7919-481a-a9a6-36a4fbc9c43f",
   "metadata": {},
   "source": [
    "## Define Graph"
   ]
  },
  {
   "cell_type": "markdown",
   "id": "8d2211e5-7eda-4f80-87ad-d0dea6fbdf7a",
   "metadata": {},
   "source": [
    "Conceptually, the `TigerGraph` class represents the graph stored in the database. Under the hood, it stores the necessary information to communicate with the TigerGraph database. It can read `username` and `password` from environment variables `TGUSERNAME` and `TGPASSWORD`. Hence, we recommend storing those credentials in the environment variables or in a `.env` file instead of hardcoding them in code. However, if you do provide `username` and `password` to this class constructor, the environment variables will be ignored."
   ]
  },
  {
   "cell_type": "code",
   "execution_count": null,
   "id": "0013466e-83ec-4932-b17b-32ffd56e9695",
   "metadata": {},
   "outputs": [],
   "source": [
    "from tgml.data import TigerGraph"
   ]
  },
  {
   "cell_type": "markdown",
   "id": "f927ec35-f543-4799-b9e5-4aa64ae5d4d1",
   "metadata": {},
   "source": [
    "Args to the `TigerGraph` class:\n",
    "*    host (str, ): Address of the server. Defaults to \"http://localhost\".\n",
    "*    graph (str, ): Name of the graph. Defaults to None.\n",
    "*    username (str, optional): Username. Defaults to None.\n",
    "*    password (str, optional): Password for the user. Defaults to None.\n",
    "*    rest_port (str, optional): Port for the REST endpoint. Defaults to \"9000\".\n",
    "*    gs_port (str, optional): Port for GraphStudio. Defaults to \"14240\".\n",
    "*    token_auth (bool, optional): Whether to use token authentication. If True, token authentication must be turned on in the TigerGraph database server. Defaults to True."
   ]
  },
  {
   "cell_type": "code",
   "execution_count": null,
   "id": "bdec4ffe-2242-42e6-8490-95da8688e49b",
   "metadata": {},
   "outputs": [],
   "source": [
    "host = \"http://protomolecule.magichome\"\n",
    "graphName = \"Cora\"\n",
    "username = \"tigergraph\"\n",
    "password = \"Tigergraph\"\n",
    "restppPort = 9000       # default 9000\n",
    "gsPort     = 14240       # default 14240\n",
    "mysecret = \"enigs3sm45lrhkm6j5jt914bk586u3sn\"\n",
    "tgraph = TigerGraph(\"http://protomolecule.magichome\", \"Cora\", \"tigergraph\", \"Tigergraph\", token_auth=False)"
   ]
  },
  {
   "cell_type": "code",
   "execution_count": null,
   "id": "1cf261f1-f0b5-40de-ac56-7578c675b1ce",
   "metadata": {},
   "outputs": [],
   "source": [
    "host = \"http://protomolecule.magichome\"\n",
    "graphName = \"Cora\"\n",
    "username = \"tigergraph\"\n",
    "password = \"Tigergraph\"\n",
    "restppPort = 9000       # default 9000\n",
    "gsPort     = 14240       # default 14240\n",
    "mysecret = \"enigs3sm45lrhkm6j5jt914bk586u3sn\"\n",
    "\n",
    "# host = \"http://35.230.92.92\"\n",
    "# password = \"tigergraphml\"\n",
    "\n",
    "# First establish a basic connection using a secret.  Do *not* do this if you already have a token\n",
    "# import pyTigerGraph as tg\n",
    "# conn = tg.TigerGraphConnection(host=host, restppPort=restppPort, gsPort=gsPort, graphname=graphName, password=password)\n",
    "# token = conn.getToken(mysecret, setToken=True, lifetime=None)[0]\n",
    "\n",
    "tgraph = TigerGraph(\"http://protomolecule.magichome\", \"Cora\", \"tigergraph\", \"Tigergraph\" )\n",
    "# tgraph = TigerGraph(host = host,\n",
    "#                     graph = graphName,\n",
    "#                     username = username,\n",
    "#                     password = password)"
   ]
  },
  {
   "cell_type": "code",
   "execution_count": null,
   "id": "938a7022-98f2-49ca-98cd-9569eb434e13",
   "metadata": {},
   "outputs": [],
   "source": [
    "tgraph.info()"
   ]
  },
  {
   "cell_type": "code",
   "execution_count": null,
   "id": "0c64295a-aa75-4fc7-9579-601d3b22b1cf",
   "metadata": {},
   "outputs": [],
   "source": [
    "tgraph.number_of_vertices()"
   ]
  },
  {
   "cell_type": "code",
   "execution_count": null,
   "id": "34956134-548b-4627-b3d2-f10a0b07f008",
   "metadata": {},
   "outputs": [],
   "source": [
    "tgraph.number_of_vertices(\"Paper\")"
   ]
  },
  {
   "cell_type": "code",
   "execution_count": null,
   "id": "2b1e3c01-f4d3-4405-a3d8-6ca6802f4f8b",
   "metadata": {},
   "outputs": [],
   "source": [
    "tgraph.number_of_edges()"
   ]
  },
  {
   "cell_type": "code",
   "execution_count": null,
   "id": "05b1aabd-9615-4bb1-b134-7859cb3b4a47",
   "metadata": {},
   "outputs": [],
   "source": [
    "tgraph.number_of_edges(\"Cite\")"
   ]
  },
  {
   "cell_type": "markdown",
   "id": "e62f1cb8-4112-4874-8f53-2265495f9613",
   "metadata": {
    "tags": []
   },
   "source": [
    "## Train/Validation/Test Split"
   ]
  },
  {
   "cell_type": "code",
   "execution_count": null,
   "id": "d2ebc36d-bd66-42c4-a77a-2f06f8a4821b",
   "metadata": {},
   "outputs": [],
   "source": [
    "from tgml.utils import split_vertices"
   ]
  },
  {
   "cell_type": "markdown",
   "id": "d934ae5a-50af-45f1-ad10-2910d04ada78",
   "metadata": {},
   "source": [
    "`tgml` provide a utility function `split_vertices` to split vertices into a training, a validation, and a test set. More precisely, it creates 3 boolean attributes with each attribute indicating whether the vertex is in the corresponding set. For example, if you want to split the vertices into 80% train, 10% validation and 10% test, you can provide as arguments to the function `train_mask=0.8, val_mask=0.1, test_mask=0.1`. This will create 3 attributes `train_mask`, `val_mask`, `test_mask` in the graph, if they don't already exist. 80% of vertices will be set to `train_mask=1`, 10% to `val_mask=1`, and 10% to `test_mask=1` at random. There will be no overlap between the partitions. You can name the attributes however you like as long as you follow the format, such as `yesterday=0.8, today=0.1, tomorrow=0.1`, but we recommend something  meaningful. "
   ]
  },
  {
   "cell_type": "code",
   "execution_count": null,
   "id": "9c86a13a-bbf6-4da3-809e-8646efba1925",
   "metadata": {},
   "outputs": [],
   "source": [
    "split_vertices(tgraph, train_mask=0.8, val_mask=0.1, test_mask=0.1)"
   ]
  },
  {
   "cell_type": "markdown",
   "id": "ad3191d5-d043-4e39-95cc-87d499f4f467",
   "metadata": {},
   "source": [
    "Now the split is done. Load all vertices and check if the split is correct. See the next tutorial for details on `VertexLoader` and other data loaders."
   ]
  },
  {
   "cell_type": "code",
   "execution_count": null,
   "id": "9f9598a0-42d8-41de-a0b8-2c5519715aff",
   "metadata": {},
   "outputs": [],
   "source": [
    "from tgml.dataloaders import VertexLoader"
   ]
  },
  {
   "cell_type": "code",
   "execution_count": null,
   "id": "259b65af-0f43-46cb-9f3e-0786f2f7fb41",
   "metadata": {},
   "outputs": [],
   "source": [
    "%%time\n",
    "vertex_loader = VertexLoader(tgraph, attributes=\"train_mask,val_mask,test_mask\")"
   ]
  },
  {
   "cell_type": "code",
   "execution_count": null,
   "id": "ce88477c-f298-49d9-8411-9d33b6a174f1",
   "metadata": {},
   "outputs": [],
   "source": [
    "%%time\n",
    "data = vertex_loader.data"
   ]
  },
  {
   "cell_type": "code",
   "execution_count": null,
   "id": "9737291d-304f-43bb-83e8-50cef365a754",
   "metadata": {},
   "outputs": [],
   "source": [
    "data.train_mask.sum()/len(data), data.val_mask.sum()/len(data), data.test_mask.sum()/len(data)"
   ]
  },
  {
   "cell_type": "markdown",
   "id": "524bc0b4-f73e-4e7f-b902-eb5cd91be9a6",
   "metadata": {},
   "source": [
    "## Feature Engineering"
   ]
  },
  {
   "cell_type": "markdown",
   "id": "3007ed55-d6d2-4602-8429-253ac58c6c20",
   "metadata": {},
   "source": [
    "We are adding graph algorithms to the workbench to perform feature engineering tasks. Current we are experimenting with PageRank and more details will be added shortly. For now you can use `pyTigerGraph` to install and run your own GSQL queries for feature extraction or any other task that can be done in GSQL."
   ]
  },
  {
   "cell_type": "code",
   "execution_count": null,
   "id": "83be6dfb-c2aa-4d67-9840-8ef7ba0aaa7c",
   "metadata": {},
   "outputs": [],
   "source": [
    "import pyTigerGraph as tg\n",
    "\n",
    "conn = tg.TigerGraphConnection(\n",
    "    host=\"http://35.230.92.92\",\n",
    "    username=\"tigergraph\",\n",
    "    password=\"tigergraphml\",\n",
    "    graphname=\"Cora\",\n",
    ")\n",
    "\n",
    "conn.apiToken = conn.getToken(conn.createSecret())"
   ]
  },
  {
   "cell_type": "markdown",
   "id": "8e69d12b-a975-47db-aec2-d4fcfcd75f25",
   "metadata": {},
   "source": [
    "### PageRank"
   ]
  },
  {
   "cell_type": "markdown",
   "id": "899b6536-9fde-4316-85a3-16070b898e88",
   "metadata": {},
   "source": [
    "PageRank is the algorithm that originally ran Google's search engine, where it ranked the most influential webpages higher than less influential ones. A page was determined to be influential through its PageRank score, which is based off the importance of the pages that linked to it. Generalizing this, PageRank finds the most influential vertices in a graph based upon how influential the vertices that have edges to the desired vertex are.\n",
    "\n",
    "The documentation of the PageRank query is found here: https://docs.tigergraph.com/graph-algorithm-library/centrality/pagerank."
   ]
  },
  {
   "cell_type": "markdown",
   "id": "296e9b75-1170-4f37-9f64-b9585ecb0433",
   "metadata": {},
   "source": [
    "#### Install PageRank Query"
   ]
  },
  {
   "cell_type": "code",
   "execution_count": null,
   "id": "7b5f42e9-1335-425a-a7dd-c29aa962414c",
   "metadata": {},
   "outputs": [],
   "source": [
    "gsql = '''\n",
    "CREATE QUERY tg_pagerank (STRING v_type, STRING e_type,\n",
    " FLOAT max_change=0.001, INT max_iter=25, FLOAT damping=0.85, INT top_k = 100,\n",
    " BOOL print_accum = TRUE, STRING result_attr =  \"\", STRING file_path = \"\",\n",
    " BOOL display_edges = FALSE) {\n",
    "/*\n",
    " Compute the pageRank score for each vertex in the GRAPH\n",
    " In each iteration, compute a score for each vertex:\n",
    "     score = (1-damping) + damping*sum(received scores FROM its neighbors).\n",
    " The pageRank algorithm stops when either of the following is true:\n",
    " a) it reaches max_iter iterations;\n",
    " b) the max score change for any vertex compared to the last iteration <= max_change.\n",
    " v_type: vertex types to traverse          print_accum: print JSON output\n",
    " e_type: edge types to traverse            result_attr: INT attr to store results to\n",
    " max_iter; max #iterations                 file_path: file to write CSV output to\n",
    " top_k: #top scores to output              display_edges: output edges for visualization\n",
    " max_change: max allowed change between iterations to achieve convergence\n",
    " damping: importance of traversal vs. random teleport\n",
    "\n",
    " This query supports only taking in a single edge for the time being (8/13/2020).\n",
    "*/\n",
    "\tTYPEDEF TUPLE<VERTEX Vertex_ID, FLOAT score> Vertex_Score;\n",
    "\tHeapAccum<Vertex_Score>(top_k, score DESC) @@topScores;\n",
    "\tMaxAccum<FLOAT> @@max_diff = 9999;    # max score change in an iteration\n",
    "\tSumAccum<FLOAT> @recvd_score = 0; # sum of scores each vertex receives FROM neighbors\n",
    "\tSumAccum<FLOAT> @score = 1;           # initial score for every vertex is 1.\n",
    "\tSetAccum<EDGE> @@edgeSet;             # list of all edges, if display is needed\n",
    "\tFILE f (file_path);\n",
    "\n",
    "# PageRank iterations\t\n",
    "\tStart = {v_type};                     # Start with all vertices of specified type(s)\n",
    "\tWHILE @@max_diff > max_change LIMIT max_iter DO\n",
    "\t\t\t@@max_diff = 0;\n",
    "\t\t\tV = SELECT s\n",
    "\t\t\t\tFROM Start:s -(e_type:e)-> v_type:t\n",
    "\t\t\t\tACCUM t.@recvd_score += s.@score/(s.outdegree(e_type)) \n",
    "\t\t\t\tPOST-ACCUM s.@score = (1.0-damping) + damping * s.@recvd_score,\n",
    "\t\t\t\t\t\t   s.@recvd_score = 0,\n",
    "\t\t\t\t\t\t   @@max_diff += abs(s.@score - s.@score');\n",
    "\tEND; # END WHILE loop\n",
    "\n",
    "# Output\n",
    "\tIF file_path != \"\" THEN\n",
    "\t  f.println(\"Vertex_ID\", \"PageRank\");\n",
    "\tEND;\n",
    "\n",
    "\tV = SELECT s FROM Start:s\n",
    "\t\tPOST-ACCUM \n",
    "\t\t\tIF result_attr != \"\" THEN s.setAttr(result_attr, s.@score) END,\n",
    "\t\t\tIF file_path != \"\" THEN f.println(s, s.@score) END,\n",
    "\t\t\tIF print_accum THEN @@topScores += Vertex_Score(s, s.@score) END;\n",
    "\n",
    "\tIF print_accum THEN\n",
    "\t\tPRINT @@topScores;\n",
    "\t\tIF display_edges THEN\n",
    "\t\t\tPRINT Start[Start.@score];\n",
    "\t\t\tStart = SELECT s\n",
    "\t\t\t\t\tFROM Start:s -(e_type:e)-> v_type:t\n",
    "\t\t\t\t\tACCUM @@edgeSet += e;\n",
    "\t\t   PRINT @@edgeSet;\n",
    "\t\tEND;\n",
    "\tEND;\n",
    "}\n",
    "'''"
   ]
  },
  {
   "cell_type": "code",
   "execution_count": null,
   "id": "25646de7-b6bd-40b9-82b6-a62f0becdf04",
   "metadata": {},
   "outputs": [],
   "source": [
    "# You can write any gsql query and install it with the following command.\n",
    "print(conn.gsql(gsql + \"\\n INSTALL QUERY tg_pagerank\"))"
   ]
  },
  {
   "cell_type": "markdown",
   "id": "5512f43e-28c7-42d4-8109-f1b6528a7dba",
   "metadata": {},
   "source": [
    "#### Run PageRank Query"
   ]
  },
  {
   "cell_type": "code",
   "execution_count": null,
   "id": "5e371a25-69c0-475c-8554-d8684b4f66ed",
   "metadata": {},
   "outputs": [],
   "source": [
    "# Once your query is installed, you can run it using the \n",
    "# `runInstalledQuery` function with input parameters as a dict.\n",
    "\n",
    "params = {\n",
    "  \"v_type\": \"Paper\",\n",
    "  \"e_type\": \"Cite\",\n",
    "  \"max_change\": 0.001,\n",
    "  \"max_iter\": 25,\n",
    "  \"damping\": 0.85,\n",
    "  \"top_k\": 150,\n",
    "  \"print_accum\": True,\n",
    "  \"result_attr\": \"\",\n",
    "  \"file_path\": \"\",\n",
    "  \"display_edges\": False\n",
    "}\n",
    "\n",
    "pr_res = conn.runInstalledQuery(\"tg_pagerank\", params=params)"
   ]
  },
  {
   "cell_type": "code",
   "execution_count": null,
   "id": "bdb754bd-db9a-4a6f-9c1f-08d724efb4df",
   "metadata": {},
   "outputs": [],
   "source": [
    "# Output from your query will be returned as a JSON\n",
    "pr_res"
   ]
  },
  {
   "cell_type": "code",
   "execution_count": null,
   "id": "85e2acc2-40b1-4a48-a5aa-e8b1e5d5cce2",
   "metadata": {},
   "outputs": [],
   "source": []
  }
 ],
 "metadata": {
  "environment": {
   "name": "pytorch-gpu.1-9.m81",
   "type": "gcloud",
   "uri": "gcr.io/deeplearning-platform-release/pytorch-gpu.1-9:m81"
  },
  "kernelspec": {
   "display_name": "Python 3 (ipykernel)",
   "language": "python",
   "name": "python3"
  },
  "language_info": {
   "codemirror_mode": {
    "name": "ipython",
    "version": 3
   },
   "file_extension": ".py",
   "mimetype": "text/x-python",
   "name": "python",
   "nbconvert_exporter": "python",
   "pygments_lexer": "ipython3",
   "version": "3.10.4"
  }
 },
 "nbformat": 4,
 "nbformat_minor": 5
}
