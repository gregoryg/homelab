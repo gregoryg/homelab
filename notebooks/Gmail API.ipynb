{
 "cells": [
  {
   "cell_type": "code",
   "execution_count": 18,
   "id": "0eb69548-53a6-4548-9ceb-f7b9e90612fd",
   "metadata": {},
   "outputs": [],
   "source": [
    "from __future__ import print_function\n",
    "\n",
    "import os.path\n",
    "\n",
    "from google.auth.transport.requests import Request\n",
    "from google.oauth2.credentials import Credentials\n",
    "from google_auth_oauthlib.flow import InstalledAppFlow\n",
    "from googleapiclient.discovery import build\n",
    "from googleapiclient.errors import HttpError\n"
   ]
  },
  {
   "cell_type": "code",
   "execution_count": 19,
   "id": "a44ecfc8-73f5-40ab-b621-93e2d627666c",
   "metadata": {},
   "outputs": [],
   "source": [
    "# If modifying these scopes, delete the file token.json.\n",
    "SCOPES = ['https://www.googleapis.com/auth/gmail.readonly']\n"
   ]
  },
  {
   "cell_type": "code",
   "execution_count": 20,
   "id": "065eeb44-c679-4b16-8640-abfde804f757",
   "metadata": {},
   "outputs": [],
   "source": [
    "creds = None\n",
    "# The file token.json stores the user's access and refresh tokens, and is\n",
    "# created automatically when the authorization flow completes for the first\n",
    "# time.\n",
    "if os.path.exists('token.json'):\n",
    "    creds = Credentials.from_authorized_user_file('token.json', SCOPES)\n",
    "# If there are no (valid) credentials available, let the user log in.\n",
    "if not creds or not creds.valid:\n",
    "    if creds and creds.expired and creds.refresh_token:\n",
    "        creds.refresh(Request())\n",
    "    else:\n",
    "        flow = InstalledAppFlow.from_client_secrets_file(\n",
    "            'credentials.json', SCOPES)\n",
    "        creds = flow.run_local_server(port=0)\n",
    "    # Save the credentials for the next run\n",
    "    with open('token.json', 'w') as token:\n",
    "        token.write(creds.to_json())\n"
   ]
  },
  {
   "cell_type": "markdown",
   "id": "d5ae56e9-fd73-41cd-9816-cc0ab30c33d5",
   "metadata": {},
   "source": [
    "# Fetch all labels and tags on this account"
   ]
  },
  {
   "cell_type": "code",
   "execution_count": 22,
   "id": "6258cdea-1a53-4610-bcda-8e7d0159365d",
   "metadata": {},
   "outputs": [
    {
     "name": "stdout",
     "output_type": "stream",
     "text": [
      "Labels:\n",
      "CHAT\n",
      "SENT\n",
      "INBOX\n",
      "IMPORTANT\n",
      "TRASH\n",
      "DRAFT\n",
      "SPAM\n",
      "CATEGORY_FORUMS\n",
      "CATEGORY_UPDATES\n",
      "CATEGORY_PERSONAL\n",
      "CATEGORY_PROMOTIONS\n",
      "CATEGORY_SOCIAL\n",
      "STARRED\n",
      "UNREAD\n",
      "OHAI\n"
     ]
    }
   ],
   "source": [
    "try:\n",
    "    # Call the Gmail API\n",
    "    service = build('gmail', 'v1', credentials=creds)\n",
    "    results = service.users().labels().list(userId='me').execute()\n",
    "    labels = results.get('labels', [])\n",
    "    if not labels:\n",
    "        print('No labels found.')\n",
    "    else:\n",
    "        print('Labels:')\n",
    "        for label in labels:\n",
    "            print(label['name'])\n",
    "\n",
    "except HttpError as error:\n",
    "    # TODO(developer) - Handle errors from gmail API.\n",
    "    print(f'An error occurred: {error}')\n"
   ]
  },
  {
   "cell_type": "markdown",
   "id": "46f86180-b2f7-4590-a610-e8dd857ca5ad",
   "metadata": {},
   "source": [
    "# Get unread message IDs in Inbox\n",
    "\n",
    "Messages are paginated, thus the iteration code"
   ]
  },
  {
   "cell_type": "code",
   "execution_count": 31,
   "id": "f560a9fd-f105-46dd-8bfd-83204bbbf26a",
   "metadata": {},
   "outputs": [],
   "source": [
    "try:\n",
    "    service = build('gmail', 'v1', credentials=creds)\n",
    "    results = service.users().messages().list(userId='me', q=\"in:inbox is:unread\").execute()\n",
    "    messages = []\n",
    "    if 'messages' in results:\n",
    "        messages.extend(results['messages'])\n",
    "    while 'nextPageToken' in results:\n",
    "        page_token = results['nextpagetoken']\n",
    "        results = service.users().messages().list(userId='me', q=\"in:inbox is:unread\", pageToken=page_token).execut()\n",
    "        if 'messages' in results:\n",
    "            messages.extend(results['messages'])\n",
    "\n",
    "except HttpError as error:\n",
    "    # TODO(developer) - Handle errors from gmail API.\n",
    "    print(f'An error occurred: {error}')"
   ]
  },
  {
   "cell_type": "markdown",
   "id": "26f29922-ffd4-44f2-b81e-a43df94abd34",
   "metadata": {},
   "source": [
    "## and their count\n",
    "\n",
    "This is all I want for my polybar notifier"
   ]
  },
  {
   "cell_type": "code",
   "execution_count": 47,
   "id": "1d808ede-0178-4d39-9ab9-e07a5c6cc752",
   "metadata": {},
   "outputs": [
    {
     "data": {
      "text/plain": [
       "8"
      ]
     },
     "execution_count": 47,
     "metadata": {},
     "output_type": "execute_result"
    }
   ],
   "source": [
    "len(results['messages'])"
   ]
  }
 ],
 "metadata": {
  "kernelspec": {
   "display_name": "Python 3",
   "language": "python",
   "name": "python3"
  },
  "language_info": {
   "codemirror_mode": {
    "name": "ipython",
    "version": 3
   },
   "file_extension": ".py",
   "mimetype": "text/x-python",
   "name": "python",
   "nbconvert_exporter": "python",
   "pygments_lexer": "ipython3",
   "version": "3.9.7"
  }
 },
 "nbformat": 4,
 "nbformat_minor": 5
}
