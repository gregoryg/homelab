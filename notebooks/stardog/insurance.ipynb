{
 "cells": [
  {
   "cell_type": "markdown",
   "metadata": {
    "editable": true,
    "slideshow": {
     "slide_type": ""
    },
    "tags": []
   },
   "source": [
    "# Welcome to pystardog\n",
    "\n",
    "Press the Restart & Run All button to run all the cells in this notebook and view the output.\n",
    "\n",
    "This Notebook uses `pyStardog` to connect to a Stardog Platform database server.  \n",
    "\n",
    "The database it uses is similar to the **Insurance Risk and Underwriting Demo** in the Stardog Knowledge Kits on Stardog Cloud\n",
    "\n",
    "\n",
    "We will be using the graph data fed by multiple data sources to access crime statistics."
   ]
  },
  {
   "cell_type": "markdown",
   "metadata": {},
   "source": [
    "## Imports"
   ]
  },
  {
   "cell_type": "code",
   "execution_count": null,
   "metadata": {},
   "outputs": [],
   "source": [
    "import io\n",
    "import stardog\n",
    "import pandas as pd\n",
    "import seaborn as sns\n",
    "from configparser import ConfigParser"
   ]
  },
  {
   "cell_type": "markdown",
   "metadata": {},
   "source": [
    "## Configuration required to connect to Stardog"
   ]
  },
  {
   "cell_type": "code",
   "execution_count": null,
   "metadata": {},
   "outputs": [],
   "source": [
    "# Get credentials from file\n",
    "# file contains DEFAULT section plus override sections\n",
    "config_section = 'doghouse'\n",
    "parser = ConfigParser()\n",
    "_ = parser.read('../CREDENTIALS.config')\n",
    "\n",
    "url = parser.get(config_section, 'url')\n",
    "user = parser.get(config_section, 'user')\n",
    "password = parser.get(config_section, 'password')\n",
    "db = 'voicebox-training-healthcare'\n",
    "api_endpoint = 'query'\n",
    "\n",
    "connection_details = {\n",
    "    'endpoint': url,\n",
    "    'username': user,\n",
    "    'password': password\n",
    "}\n"
   ]
  },
  {
   "cell_type": "code",
   "execution_count": null,
   "metadata": {},
   "outputs": [],
   "source": [
    "connection_details"
   ]
  },
  {
   "cell_type": "markdown",
   "metadata": {},
   "source": [
    "## Connect to the Stardog database"
   ]
  },
  {
   "cell_type": "code",
   "execution_count": null,
   "metadata": {
    "scrolled": true
   },
   "outputs": [],
   "source": [
    "conn = stardog.Connection(db, **connection_details)\n",
    "\n",
    "conn.begin()"
   ]
  },
  {
   "cell_type": "markdown",
   "metadata": {},
   "source": [
    "## OK - Let's materialize a virtual graph!"
   ]
  },
  {
   "cell_type": "code",
   "execution_count": null,
   "metadata": {
    "scrolled": true
   },
   "outputs": [],
   "source": [
    "vg_name = \"accenturetictest__data__antifraud\"\n",
    "dataset_graph_name = \"urn:antifraud:materialized\"\n",
    "\n",
    "conn.update(f'ADD <virtual://{vg_name}> TO <{dataset_graph_name}>')\n",
    "conn.commit()\n"
   ]
  },
  {
   "cell_type": "markdown",
   "metadata": {
    "jp-MarkdownHeadingCollapsed": true
   },
   "source": [
    "## Query the database\n",
    "\n",
    "This query returns the crime stats for Washington DC by crime type and zip code."
   ]
  },
  {
   "cell_type": "code",
   "execution_count": null,
   "metadata": {},
   "outputs": [],
   "source": [
    "query = \"\"\"\n",
    "PREFIX sqs: <tag:stardog:api:sqs:>\n",
    "PREFIX : <http://api.stardog.com/>\n",
    "\n",
    "select * { ?statIRI  a :Crime_Stats;\n",
    "                   :Crime_Type ?offense;\n",
    "                   :Crime_Count ?crimeCount;\n",
    "                   :Crime_Zip ?zipCode;\n",
    "                   :Occurred_In ?zipCodeIri.\n",
    "          ?zipCodeIri a :Zip_Codes.\n",
    "          } \n",
    "\"\"\"\n",
    "\n",
    "csv_results = conn.select(query, content_type='text/csv')\n",
    "df = pd.read_csv(io.BytesIO(csv_results))"
   ]
  },
  {
   "cell_type": "markdown",
   "metadata": {},
   "source": [
    "## Preview Crime Data"
   ]
  },
  {
   "cell_type": "code",
   "execution_count": null,
   "metadata": {
    "scrolled": true
   },
   "outputs": [],
   "source": [
    "df.head()"
   ]
  },
  {
   "cell_type": "markdown",
   "metadata": {},
   "source": [
    "## Plot total crime stats in Washington DC"
   ]
  },
  {
   "cell_type": "code",
   "execution_count": null,
   "metadata": {
    "scrolled": true
   },
   "outputs": [],
   "source": [
    "#Plotting a bar chart\n",
    "import matplotlib.pyplot as plt\n",
    "plt.figure(figsize=[5,4])\n",
    "#df['offense'].value_counts().plot.barh()\n",
    "df.groupby('offense').crimeCount.sum().sort_values(ascending=False).plot(kind=\"bar\")\n",
    "sns.set(style=\"darkgrid\")\n",
    "plt.show()"
   ]
  },
  {
   "cell_type": "code",
   "execution_count": null,
   "metadata": {},
   "outputs": [],
   "source": [
    "## Plot total crime stats in Washington DC by Zip Code"
   ]
  },
  {
   "cell_type": "code",
   "execution_count": null,
   "metadata": {},
   "outputs": [],
   "source": [
    "#Plotting a bar chart\n",
    "import matplotlib.pyplot as plt\n",
    "plt.figure(figsize=[6,5])\n",
    "#df['offense'].value_counts().plot.barh()\n",
    "df.plot.scatter(x='zipCode',\n",
    "                      y='offense')\n",
    "sns.set(style=\"darkgrid\")\n",
    "plt.show()"
   ]
  },
  {
   "cell_type": "markdown",
   "metadata": {},
   "source": [
    "### Clean up the connection\n",
    "\n",
    "Normally you would use a `with statement` similar to line 3."
   ]
  },
  {
   "cell_type": "code",
   "execution_count": null,
   "metadata": {},
   "outputs": [],
   "source": [
    "conn.__exit__()"
   ]
  },
  {
   "cell_type": "code",
   "execution_count": null,
   "metadata": {},
   "outputs": [],
   "source": []
  }
 ],
 "metadata": {
  "kernelspec": {
   "display_name": "Python 3 (ipykernel)",
   "language": "python",
   "name": "python3"
  },
  "language_info": {
   "codemirror_mode": {
    "name": "ipython",
    "version": 3
   },
   "file_extension": ".py",
   "mimetype": "text/x-python",
   "name": "python",
   "nbconvert_exporter": "python",
   "pygments_lexer": "ipython3",
   "version": "3.13.3"
  }
 },
 "nbformat": 4,
 "nbformat_minor": 4
}
