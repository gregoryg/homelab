{
 "cells": [
  {
   "cell_type": "markdown",
   "metadata": {},
   "source": [
    "# Welcome to pystardog\n",
    "\n",
    "Press the Restart & Run All button to run all the cells in this notebook and view the output."
   ]
  },
  {
   "cell_type": "code",
   "execution_count": null,
   "metadata": {},
   "outputs": [],
   "source": [
    "import io\n",
    "import stardog\n",
    "import pandas as pd\n",
    "import seaborn as sns\n",
    "from configparser import ConfigParser"
   ]
  },
  {
   "cell_type": "code",
   "execution_count": null,
   "metadata": {},
   "outputs": [],
   "source": [
    "# Get credentials from file\n",
    "# file contains DEFAULT section plus override sections\n",
    "config_section = 'doghouse'\n",
    "parser = ConfigParser()\n",
    "_ = parser.read('../CREDENTIALS.config')\n",
    "\n",
    "url = parser.get(config_section, 'url')\n",
    "user = parser.get(config_section, 'user')\n",
    "password = parser.get(config_section, 'password')\n",
    "db = 'insurance'\n",
    "api_endpoint = 'query'"
   ]
  },
  {
   "cell_type": "markdown",
   "metadata": {},
   "source": [
    "## Specify Stardog connection details"
   ]
  },
  {
   "cell_type": "code",
   "execution_count": null,
   "metadata": {},
   "outputs": [],
   "source": [
    "connection_details = {\n",
    "    'endpoint': url,\n",
    "    'username': user,\n",
    "    'password': password\n",
    "}\n"
   ]
  },
  {
   "cell_type": "markdown",
   "metadata": {},
   "source": [
    "## Create a new database in Stardog\n",
    "\n",
    "Drop the database if it already exists."
   ]
  },
  {
   "cell_type": "code",
   "execution_count": null,
   "metadata": {},
   "outputs": [],
   "source": [
    "database_name = 'insurance'"
   ]
  },
  {
   "cell_type": "markdown",
   "metadata": {},
   "source": [
    "## Connect to the Stardog database"
   ]
  },
  {
   "cell_type": "code",
   "execution_count": null,
   "metadata": {},
   "outputs": [],
   "source": [
    "conn = stardog.Connection(database_name, **connection_details)"
   ]
  },
  {
   "cell_type": "markdown",
   "metadata": {},
   "source": [
    "## Load the sample data\n",
    "### Start a transaction"
   ]
  },
  {
   "cell_type": "code",
   "execution_count": null,
   "metadata": {},
   "outputs": [],
   "source": [
    "conn.begin()"
   ]
  },
  {
   "cell_type": "markdown",
   "metadata": {},
   "source": [
    "## Query the database\n",
    "\n",
    "This query returns the crime stats for Washington DC by crime type and zip code."
   ]
  },
  {
   "cell_type": "code",
   "execution_count": null,
   "metadata": {},
   "outputs": [],
   "source": [
    "query = \"\"\"\n",
    "PREFIX sqs: <tag:stardog:api:sqs:>\n",
    "PREFIX : <http://api.stardog.com/>\n",
    "\n",
    "select * { ?statIRI a :Crime_Stats;\n",
    "                   :Crime_Type ?offense;\n",
    "                   :Crime_Count ?crimeCount;\n",
    "                   :Crime_Zip ?zipCode;\n",
    "                   :Occurred_In ?zipCodeIri.\n",
    "          ?zipCodeIri a :Zip_Codes.\n",
    "          } \n",
    "\"\"\"\n",
    "\n",
    "csv_results = conn.select(query, content_type='text/csv')\n",
    "df = pd.read_csv(io.BytesIO(csv_results))"
   ]
  },
  {
   "cell_type": "markdown",
   "metadata": {},
   "source": [
    "## Preview Crime Data"
   ]
  },
  {
   "cell_type": "code",
   "execution_count": null,
   "metadata": {
    "scrolled": true
   },
   "outputs": [],
   "source": [
    "df.head()"
   ]
  },
  {
   "cell_type": "markdown",
   "metadata": {},
   "source": [
    "## Plot total crime stats in Washington DC"
   ]
  },
  {
   "cell_type": "code",
   "execution_count": null,
   "metadata": {
    "scrolled": true
   },
   "outputs": [],
   "source": [
    "#Plotting a bar chart\n",
    "import matplotlib.pyplot as plt\n",
    "plt.figure(figsize=[5,4])\n",
    "#df['offense'].value_counts().plot.barh()\n",
    "df.groupby('offense').crimeCount.sum().sort_values(ascending=False).plot(kind=\"bar\")\n",
    "sns.set(style=\"darkgrid\")\n",
    "plt.show()"
   ]
  },
  {
   "cell_type": "code",
   "execution_count": null,
   "metadata": {},
   "outputs": [],
   "source": [
    "## Plot total crime stats in Washington DC by Zip Code"
   ]
  },
  {
   "cell_type": "code",
   "execution_count": null,
   "metadata": {},
   "outputs": [],
   "source": [
    "#Plotting a bar chart\n",
    "import matplotlib.pyplot as plt\n",
    "plt.figure(figsize=[6,5])\n",
    "#df['offense'].value_counts().plot.barh()\n",
    "df.plot.scatter(x='zipCode',\n",
    "                      y='offense')\n",
    "sns.set(style=\"darkgrid\")\n",
    "plt.show()"
   ]
  },
  {
   "cell_type": "markdown",
   "metadata": {},
   "source": [
    "### Clean up the connection\n",
    "\n",
    "Normally you would use a `with statement` similar to line 3."
   ]
  },
  {
   "cell_type": "code",
   "execution_count": null,
   "metadata": {},
   "outputs": [],
   "source": [
    "conn.__exit__()"
   ]
  },
  {
   "cell_type": "code",
   "execution_count": null,
   "metadata": {},
   "outputs": [],
   "source": []
  }
 ],
 "metadata": {
  "kernelspec": {
   "display_name": "Python 3 (ipykernel)",
   "language": "python",
   "name": "python3"
  },
  "language_info": {
   "codemirror_mode": {
    "name": "ipython",
    "version": 3
   },
   "file_extension": ".py",
   "mimetype": "text/x-python",
   "name": "python",
   "nbconvert_exporter": "python",
   "pygments_lexer": "ipython3",
   "version": "3.10.5"
  }
 },
 "nbformat": 4,
 "nbformat_minor": 4
}
