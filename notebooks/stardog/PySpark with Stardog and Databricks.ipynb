{
 "cells": [
  {
   "cell_type": "code",
   "execution_count": null,
   "id": "fdb53d22-6929-4448-86f9-aed149f2b5af",
   "metadata": {},
   "outputs": [],
   "source": []
  },
  {
   "cell_type": "markdown",
   "id": "e0632aae-5f18-4198-a428-3c0a06763115",
   "metadata": {},
   "source": [
    "# Using Stardog with Databricks from local Jupyter\n",
    "\n",
    "Uninstall PySpark. This is required because the databricks-connect package conflicts with PySpark. For details, see Conflicting PySpark installations. Bash Copy. pip uninstall pyspark.\n",
    "Install the Databricks Connect client. Bash Copy. pip install -U \"databricks-connect==7.3. *\" # or X.Y.\n",
    "\n",
    "The required libraries (installed with pip or conda) include\n",
    "1. `pyspark` (or `databricks-connect`)\n",
    "1. `findspark` to locate the Spark installation and set initial config\n",
    "\n"
   ]
  },
  {
   "cell_type": "code",
   "execution_count": null,
   "id": "9c9877c2-dd41-443c-8c40-30ea916a8faa",
   "metadata": {},
   "outputs": [],
   "source": [
    "import findspark\n",
    "findspark.init()\n",
    "\n",
    "import pyspark\n",
    "import random\n",
    "\n",
    "import stardog\n",
    "import io\n",
    "\n",
    "import os\n",
    "# os.environ['PYSPARK_SUBMIT_ARGS'] = '--jars /opt/spark/user-jars/tg-jdbc-driver-1.2.jar pyspark-shell'\n"
   ]
  },
  {
   "cell_type": "code",
   "execution_count": null,
   "id": "a3fad6ff-44e1-4215-80af-3ac431f92d12",
   "metadata": {},
   "outputs": [],
   "source": [
    "from pyspark.sql import SparkSession\n",
    "from pyspark.sql.types import StructType, StructField\n",
    "from pyspark.sql.types import StringType, IntegerType\n",
    "import pandas as pd\n",
    "from configparser import ConfigParser\n"
   ]
  },
  {
   "cell_type": "code",
   "execution_count": null,
   "id": "2f37436d-27bd-4615-b28c-5fd64069afe9",
   "metadata": {},
   "outputs": [],
   "source": [
    "spark = SparkSession.builder.appName(\"StardogAnalysis\").getOrCreate()"
   ]
  },
  {
   "cell_type": "code",
   "execution_count": null,
   "id": "404784dd-29e7-49d8-8702-2cc2cb097d23",
   "metadata": {},
   "outputs": [],
   "source": [
    "# define connection parameters\n",
    "# file contains DEFAULT section plus override sections\n",
    "config_section = 'doghouse'\n",
    "parser = ConfigParser()\n",
    "_ = parser.read('../CREDENTIALS.config')\n",
    "\n",
    "url = parser.get(config_section, 'url')\n",
    "user = parser.get(config_section, 'user')\n",
    "password = parser.get(config_section, 'password')\n",
    "db = 'insurance'\n",
    "api_endpoint = 'query'"
   ]
  },
  {
   "cell_type": "code",
   "execution_count": null,
   "id": "0d6b7047-3c2f-4528-9de7-e95ec4350b9d",
   "metadata": {},
   "outputs": [],
   "source": [
    "connection_details = {\n",
    "    'endpoint': url,\n",
    "    'username': user,\n",
    "    'password': password\n",
    "}\n"
   ]
  },
  {
   "cell_type": "code",
   "execution_count": null,
   "id": "1d18f1bb-f209-4e1c-bd88-fe526541a27c",
   "metadata": {},
   "outputs": [],
   "source": [
    "conn = stardog.Connection('insurance', **connection_details)"
   ]
  },
  {
   "cell_type": "code",
   "execution_count": null,
   "id": "1994ae7c-ceae-4c8f-9b24-137e20269005",
   "metadata": {},
   "outputs": [],
   "source": [
    "query = \"\"\"\n",
    "PREFIX sqs: <tag:stardog:api:sqs:>\n",
    "PREFIX : <http://api.stardog.com/>\n",
    "\n",
    "select * { ?statIRI a :Crime_Stats;\n",
    "                   :Crime_Type ?offense;\n",
    "                   :Crime_Count ?crimeCount;\n",
    "                   :Crime_Zip ?zipCode;\n",
    "                   :Occurred_In ?zipCodeIri.\n",
    "          ?zipCodeIri a :Zip_Codes.\n",
    "          } \n",
    "\"\"\"\n",
    "\n",
    "csv_results = conn.select(query, content_type='text/csv')\n",
    "df = pd.read_csv(io.BytesIO(csv_results))"
   ]
  },
  {
   "cell_type": "code",
   "execution_count": null,
   "id": "5fb324f5-fc53-4b97-9bf2-bef7fc8a5c7e",
   "metadata": {},
   "outputs": [],
   "source": [
    "df.head()"
   ]
  },
  {
   "cell_type": "code",
   "execution_count": null,
   "id": "8fef5f74-2aad-453f-920a-03a9e35231f3",
   "metadata": {},
   "outputs": [],
   "source": []
  },
  {
   "cell_type": "code",
   "execution_count": null,
   "id": "3b3146e9-e530-4ea8-b961-34a3cf4d630c",
   "metadata": {},
   "outputs": [],
   "source": [
    "spark.sql('show databases').show()"
   ]
  },
  {
   "cell_type": "code",
   "execution_count": null,
   "id": "09e2f47d-514f-4eb4-8d25-48e89ca24568",
   "metadata": {},
   "outputs": [],
   "source": [
    "jdbcDF = spark.read \\\n",
    "  .format(\"jdbc\") \\\n",
    "  .option(\"driver\", \"com.tigergraph.jdbc.Driver\") \\\n",
    "  .option(\"url\", \"jdbc:tg:\" + gsurl) \\\n",
    "  .option(\"user\", gsuser) \\\n",
    "  .option(\"password\", gspass) \\\n",
    "  .option(\"graph\", graph) \\\n",
    "  .option(\"dbtable\", \"vertex Orders\") \\\n",
    "  .option(\"limit\", \"10\") \\\n",
    "  .option(\"debug\", \"0\") \\\n",
    "  .load()\n",
    "\n",
    "jdbcDF.printSchema()\n",
    "# jdbcDF.show()\n"
   ]
  },
  {
   "cell_type": "code",
   "execution_count": null,
   "id": "23e54fa1-c8be-4891-9940-3f683e4217de",
   "metadata": {},
   "outputs": [],
   "source": [
    "df = jdbcDF.toPandas()\n",
    "df"
   ]
  },
  {
   "cell_type": "code",
   "execution_count": null,
   "id": "444cbc4f-1b7e-4b1f-aba5-f383655c74e4",
   "metadata": {},
   "outputs": [],
   "source": [
    "jdbcDF.show()"
   ]
  },
  {
   "cell_type": "code",
   "execution_count": null,
   "id": "655bf4cf-7351-4888-bfbf-c8ad85fb0f98",
   "metadata": {},
   "outputs": [],
   "source": [
    "!pip list"
   ]
  }
 ],
 "metadata": {
  "kernelspec": {
   "display_name": "Python 3 (ipykernel)",
   "language": "python",
   "name": "python3"
  },
  "language_info": {
   "codemirror_mode": {
    "name": "ipython",
    "version": 3
   },
   "file_extension": ".py",
   "mimetype": "text/x-python",
   "name": "python",
   "nbconvert_exporter": "python",
   "pygments_lexer": "ipython3",
   "version": "3.13.3"
  }
 },
 "nbformat": 4,
 "nbformat_minor": 5
}
