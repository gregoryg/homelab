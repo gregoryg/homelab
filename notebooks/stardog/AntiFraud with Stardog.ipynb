{
 "cells": [
  {
   "cell_type": "code",
   "execution_count": null,
   "id": "b249e65d-c14c-4b43-847e-dfde8d9c4a6d",
   "metadata": {},
   "outputs": [],
   "source": [
    "import io\n",
    "import stardog\n",
    "import pandas as pd\n",
    "import seaborn as sns\n",
    "from configparser import ConfigParser\n"
   ]
  },
  {
   "cell_type": "code",
   "execution_count": null,
   "id": "d4ab61d8-9c89-4a31-9402-6ba84eb4b373",
   "metadata": {},
   "outputs": [],
   "source": [
    "# Get credentials from file\n",
    "# file contains DEFAULT section plus override sections\n",
    "config_section = 'doghouse'\n",
    "parser = ConfigParser()\n",
    "_ = parser.read('../CREDENTIALS.config')\n",
    "\n",
    "url = parser.get(config_section, 'url')\n",
    "user = parser.get(config_section, 'user')\n",
    "password = parser.get(config_section, 'password')\n",
    "db = 'insurance'\n",
    "api_endpoint = 'query'"
   ]
  },
  {
   "cell_type": "markdown",
   "id": "17b26328-ea75-43ed-89ed-b7019c6be2ba",
   "metadata": {},
   "source": [
    "# Data Exploration"
   ]
  },
  {
   "cell_type": "code",
   "execution_count": null,
   "id": "a0e5b87f-5f36-40ac-839e-717334e90814",
   "metadata": {},
   "outputs": [],
   "source": [
    "dir=\"/data/graph-data/AntiFraud/data\"\n",
    "dataroot = \"/data/graph-data/northwind/data\"\n",
    "orders = pd.read_csv(dataroot + \"/orders.csv\")\n",
    "order_details = pd.read_csv(dataroot + \"/order-details.csv\")\n",
    "customers = pd.read_csv(dataroot + \"/customers.csv\")\n",
    "reps = pd.read_csv(dataroot + \"/employees.csv\")\n",
    "\n",
    "accounts = pd.read_csv(\"/data/graph-data/AntiFraud/data/ff_accounts.csv.gz\")"
   ]
  },
  {
   "cell_type": "code",
   "execution_count": null,
   "id": "2a5ce1ed-9d68-4c47-baae-4eb9285c93ac",
   "metadata": {},
   "outputs": [],
   "source": [
    "accounts.dtypes"
   ]
  },
  {
   "cell_type": "code",
   "execution_count": null,
   "id": "0f462185-179d-4f6d-b409-25a79e692848",
   "metadata": {},
   "outputs": [],
   "source": [
    "accounts['acctCode'].unique()"
   ]
  },
  {
   "cell_type": "code",
   "execution_count": null,
   "id": "2761249c-7b0f-4064-92f3-bfe15e97e768",
   "metadata": {},
   "outputs": [],
   "source": [
    "accounts.info()"
   ]
  },
  {
   "cell_type": "code",
   "execution_count": null,
   "id": "7989c0ef-8441-4f6e-8d0e-670b3f0874e1",
   "metadata": {},
   "outputs": [],
   "source": []
  }
 ],
 "metadata": {
  "kernelspec": {
   "display_name": "Python 3 (ipykernel)",
   "language": "python",
   "name": "python3"
  },
  "language_info": {
   "codemirror_mode": {
    "name": "ipython",
    "version": 3
   },
   "file_extension": ".py",
   "mimetype": "text/x-python",
   "name": "python",
   "nbconvert_exporter": "python",
   "pygments_lexer": "ipython3",
   "version": "3.13.3"
  }
 },
 "nbformat": 4,
 "nbformat_minor": 5
}
