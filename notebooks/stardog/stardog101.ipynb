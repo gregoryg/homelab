{
 "cells": [
  {
   "cell_type": "code",
   "execution_count": 18,
   "id": "587d2eeb-1ac5-4547-aa9c-8fa8e1420cf9",
   "metadata": {},
   "outputs": [],
   "source": [
    "import stardog\n",
    "from pathlib import Path\n",
    "import pprint\n",
    "import pandas as pd\n",
    "from configparser import ConfigParser"
   ]
  },
  {
   "cell_type": "code",
   "execution_count": 19,
   "id": "9334696b-2485-4ce4-a831-5a58ebce7456",
   "metadata": {},
   "outputs": [],
   "source": [
    "# Get credentials from file\n",
    "# file contains DEFAULT section plus override sections\n",
    "# config_section = 'doghouse'\n",
    "config_section = 'k3s-lab'\n",
    "parser = ConfigParser()\n",
    "_ = parser.read('../CREDENTIALS.config')\n",
    "\n",
    "url = parser.get(config_section, 'url')\n",
    "user = parser.get(config_section, 'user')\n",
    "password = parser.get(config_section, 'password')\n",
    "db = 'looney-tunes'\n",
    "api_endpoint = 'query'"
   ]
  },
  {
   "cell_type": "code",
   "execution_count": 20,
   "id": "cb2462ab-9945-40a8-babd-94ec92fb2a23",
   "metadata": {},
   "outputs": [
    {
     "data": {
      "text/plain": [
       "'http://localhost:5820/looney-tunes/query/'"
      ]
     },
     "execution_count": 20,
     "metadata": {},
     "output_type": "execute_result"
    }
   ],
   "source": [
    "url+\"/looney-tunes/query/\""
   ]
  },
  {
   "cell_type": "code",
   "execution_count": 21,
   "id": "5af4843a-0e3a-4d59-afaf-dfd2404da945",
   "metadata": {},
   "outputs": [],
   "source": [
    "conn_details = { 'endpoint': url, 'username': user, 'password': password}"
   ]
  },
  {
   "cell_type": "code",
   "execution_count": 22,
   "id": "c78ac22e-71a4-4a5e-aefa-f521a42a5154",
   "metadata": {},
   "outputs": [
    {
     "data": {
      "text/plain": [
       "{'endpoint': 'http://localhost:5820',\n",
       " 'username': 'gregj',\n",
       " 'password': 'Exceed_Vitality_Banjo5'}"
      ]
     },
     "execution_count": 22,
     "metadata": {},
     "output_type": "execute_result"
    }
   ],
   "source": [
    "conn_details"
   ]
  },
  {
   "cell_type": "code",
   "execution_count": 23,
   "id": "c59a84b9-300c-4695-96ec-39cda82ae3a5",
   "metadata": {},
   "outputs": [],
   "source": [
    "with stardog.Connection(database=db, **conn_details) as conn:\n",
    "    gort = conn.select('select * where {?s a :Person ; :name ?n } LIMIT 5',content_type='text/csv')\n"
   ]
  },
  {
   "cell_type": "code",
   "execution_count": 25,
   "id": "2b083aa1-41a9-4fc9-9cbb-d2e6079df127",
   "metadata": {},
   "outputs": [
    {
     "data": {
      "text/plain": [
       "b's,n\\nhttp://looneytunes-graph.com/Tex_Avery,Frederick Bean Avery\\nhttp://looneytunes-graph.com/Friz_Freleng,Isadore Freleng\\nhttp://looneytunes-graph.com/Robert_McKimson,\"Robert Porter McKimson, Sr.\"\\nhttp://looneytunes-graph.com/Sid_Marcus,Sidney Marcus\\n'"
      ]
     },
     "execution_count": 25,
     "metadata": {},
     "output_type": "execute_result"
    }
   ],
   "source": [
    "gort"
   ]
  },
  {
   "cell_type": "code",
   "execution_count": 26,
   "id": "81ec9afc-d2f0-4e52-a0f2-ca4e1bba7979",
   "metadata": {},
   "outputs": [
    {
     "ename": "AttributeError",
     "evalue": "'bytes' object has no attribute 'values'",
     "output_type": "error",
     "traceback": [
      "\u001b[0;31m---------------------------------------------------------------------------\u001b[0m",
      "\u001b[0;31mAttributeError\u001b[0m                            Traceback (most recent call last)",
      "Cell \u001b[0;32mIn[26], line 1\u001b[0m\n\u001b[0;32m----> 1\u001b[0m \u001b[43mpd\u001b[49m\u001b[38;5;241;43m.\u001b[39;49m\u001b[43mDataFrame\u001b[49m\u001b[38;5;241;43m.\u001b[39;49m\u001b[43mfrom_dict\u001b[49m\u001b[43m(\u001b[49m\u001b[43mdata\u001b[49m\u001b[38;5;241;43m=\u001b[39;49m\u001b[43mgort\u001b[49m\u001b[43m,\u001b[49m\u001b[43morient\u001b[49m\u001b[38;5;241;43m=\u001b[39;49m\u001b[38;5;124;43m'\u001b[39;49m\u001b[38;5;124;43mindex\u001b[39;49m\u001b[38;5;124;43m'\u001b[39;49m\u001b[43m)\u001b[49m\n",
      "File \u001b[0;32m~/.local/python-venvs/myspark/lib/python3.11/site-packages/pandas/core/frame.py:1747\u001b[0m, in \u001b[0;36mDataFrame.from_dict\u001b[0;34m(cls, data, orient, dtype, columns)\u001b[0m\n\u001b[1;32m   1744\u001b[0m \u001b[38;5;28;01mif\u001b[39;00m orient \u001b[38;5;241m==\u001b[39m \u001b[38;5;124m\"\u001b[39m\u001b[38;5;124mindex\u001b[39m\u001b[38;5;124m\"\u001b[39m:\n\u001b[1;32m   1745\u001b[0m     \u001b[38;5;28;01mif\u001b[39;00m \u001b[38;5;28mlen\u001b[39m(data) \u001b[38;5;241m>\u001b[39m \u001b[38;5;241m0\u001b[39m:\n\u001b[1;32m   1746\u001b[0m         \u001b[38;5;66;03m# TODO speed up Series case\u001b[39;00m\n\u001b[0;32m-> 1747\u001b[0m         \u001b[38;5;28;01mif\u001b[39;00m \u001b[38;5;28misinstance\u001b[39m(\u001b[38;5;28mlist\u001b[39m(\u001b[43mdata\u001b[49m\u001b[38;5;241;43m.\u001b[39;49m\u001b[43mvalues\u001b[49m())[\u001b[38;5;241m0\u001b[39m], (Series, \u001b[38;5;28mdict\u001b[39m)):\n\u001b[1;32m   1748\u001b[0m             data \u001b[38;5;241m=\u001b[39m _from_nested_dict(data)\n\u001b[1;32m   1749\u001b[0m         \u001b[38;5;28;01melse\u001b[39;00m:\n",
      "\u001b[0;31mAttributeError\u001b[0m: 'bytes' object has no attribute 'values'"
     ]
    }
   ],
   "source": [
    "pd.DataFrame.from_dict(data=gort,orient='index')"
   ]
  },
  {
   "cell_type": "code",
   "execution_count": null,
   "id": "4853b9d5-6b0a-440b-becb-7abe446052b4",
   "metadata": {},
   "outputs": [],
   "source": [
    "print(gort)"
   ]
  },
  {
   "cell_type": "code",
   "execution_count": null,
   "id": "5502de7a-4367-456c-b611-a65cbbaec3d0",
   "metadata": {},
   "outputs": [],
   "source": [
    "pprint.pprint(gort)"
   ]
  },
  {
   "cell_type": "code",
   "execution_count": null,
   "id": "f8b8abf4-d1c4-4455-bd08-89756b632809",
   "metadata": {},
   "outputs": [],
   "source": [
    "with stardog.Connection('looney-tunes', **conn_details) as conn:\n",
    "    gort = conn.select(\"select * WHERE { ?s ?p ?o ; :name ?n} LIMIT 4\")"
   ]
  },
  {
   "cell_type": "code",
   "execution_count": null,
   "id": "2e196d27-3a1b-4d59-b895-485b659717b0",
   "metadata": {},
   "outputs": [],
   "source": [
    "gort['results']['bindings'][0]\n"
   ]
  },
  {
   "cell_type": "code",
   "execution_count": null,
   "id": "1168f58a-f74f-4c6b-8f01-5a3ea82aaf02",
   "metadata": {},
   "outputs": [],
   "source": [
    "pd.DataFrame.from_dict(gort['results']['bindings'])"
   ]
  },
  {
   "cell_type": "code",
   "execution_count": null,
   "id": "8ffad8ba-2795-4c6d-a8ef-746cc73eb98a",
   "metadata": {},
   "outputs": [],
   "source": []
  }
 ],
 "metadata": {
  "kernelspec": {
   "display_name": "Python 3 (ipykernel)",
   "language": "python",
   "name": "python3"
  },
  "language_info": {
   "codemirror_mode": {
    "name": "ipython",
    "version": 3
   },
   "file_extension": ".py",
   "mimetype": "text/x-python",
   "name": "python",
   "nbconvert_exporter": "python",
   "pygments_lexer": "ipython3",
   "version": "3.11.2"
  }
 },
 "nbformat": 4,
 "nbformat_minor": 5
}
