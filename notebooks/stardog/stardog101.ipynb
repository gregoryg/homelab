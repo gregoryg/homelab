{
 "cells": [
  {
   "cell_type": "code",
   "execution_count": null,
   "id": "587d2eeb-1ac5-4547-aa9c-8fa8e1420cf9",
   "metadata": {},
   "outputs": [],
   "source": [
    "import stardog\n",
    "from pathlib import Path\n",
    "import pprint\n",
    "import pandas as pd\n",
    "from configparser import ConfigParser"
   ]
  },
  {
   "cell_type": "code",
   "execution_count": null,
   "id": "9334696b-2485-4ce4-a831-5a58ebce7456",
   "metadata": {},
   "outputs": [],
   "source": [
    "# Get credentials from file\n",
    "# file contains DEFAULT section plus override sections\n",
    "config_section = 'doghouse'\n",
    "config_section = 'k3s-lab'\n",
    "parser = ConfigParser()\n",
    "_ = parser.read('../CREDENTIALS.config')\n",
    "\n",
    "url = parser.get(config_section, 'url')\n",
    "user = parser.get(config_section, 'user')\n",
    "password = parser.get(config_section, 'password')\n",
    "db = 'looney-tunes'\n",
    "api_endpoint = 'query'"
   ]
  },
  {
   "cell_type": "code",
   "execution_count": null,
   "id": "cb2462ab-9945-40a8-babd-94ec92fb2a23",
   "metadata": {},
   "outputs": [],
   "source": [
    "url+\"/looney-tunes/query/\""
   ]
  },
  {
   "cell_type": "code",
   "execution_count": null,
   "id": "5af4843a-0e3a-4d59-afaf-dfd2404da945",
   "metadata": {},
   "outputs": [],
   "source": [
    "conn_details = { 'endpoint': url, 'username': user, 'password': password}"
   ]
  },
  {
   "cell_type": "code",
   "execution_count": null,
   "id": "c59a84b9-300c-4695-96ec-39cda82ae3a5",
   "metadata": {},
   "outputs": [],
   "source": [
    "with stardog.Connection(database=db, **conn_details) as conn:\n",
    "    gort = conn.select('select * where {?s a :Person ; :name ?n } LIMIT 5',content_type='text/csv')\n"
   ]
  },
  {
   "cell_type": "code",
   "execution_count": null,
   "id": "81ec9afc-d2f0-4e52-a0f2-ca4e1bba7979",
   "metadata": {},
   "outputs": [],
   "source": [
    "pd.DataFrame.from_dict(data=gort,orient='index')"
   ]
  },
  {
   "cell_type": "code",
   "execution_count": null,
   "id": "4853b9d5-6b0a-440b-becb-7abe446052b4",
   "metadata": {},
   "outputs": [],
   "source": [
    "print(gort)"
   ]
  },
  {
   "cell_type": "code",
   "execution_count": null,
   "id": "5502de7a-4367-456c-b611-a65cbbaec3d0",
   "metadata": {},
   "outputs": [],
   "source": [
    "pprint.pprint(gort)"
   ]
  },
  {
   "cell_type": "code",
   "execution_count": null,
   "id": "f8b8abf4-d1c4-4455-bd08-89756b632809",
   "metadata": {},
   "outputs": [],
   "source": [
    "with stardog.Connection('looney-tunes', **conn_details) as conn:\n",
    "    gort = conn.select(\"select * WHERE { ?s ?p ?o ; :name ?n} LIMIT 4\")"
   ]
  },
  {
   "cell_type": "code",
   "execution_count": null,
   "id": "2e196d27-3a1b-4d59-b895-485b659717b0",
   "metadata": {},
   "outputs": [],
   "source": [
    "gort['results']['bindings'][0]\n"
   ]
  },
  {
   "cell_type": "code",
   "execution_count": null,
   "id": "1168f58a-f74f-4c6b-8f01-5a3ea82aaf02",
   "metadata": {},
   "outputs": [],
   "source": [
    "pd.DataFrame.from_dict(gort['results']['bindings'])"
   ]
  },
  {
   "cell_type": "code",
   "execution_count": null,
   "id": "8ffad8ba-2795-4c6d-a8ef-746cc73eb98a",
   "metadata": {},
   "outputs": [],
   "source": []
  }
 ],
 "metadata": {
  "kernelspec": {
   "display_name": "Python 3 (ipykernel)",
   "language": "python",
   "name": "python3"
  },
  "language_info": {
   "codemirror_mode": {
    "name": "ipython",
    "version": 3
   },
   "file_extension": ".py",
   "mimetype": "text/x-python",
   "name": "python",
   "nbconvert_exporter": "python",
   "pygments_lexer": "ipython3",
   "version": "3.10.5"
  }
 },
 "nbformat": 4,
 "nbformat_minor": 5
}
