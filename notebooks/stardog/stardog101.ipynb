{
 "cells": [
  {
   "cell_type": "code",
   "execution_count": null,
   "id": "587d2eeb-1ac5-4547-aa9c-8fa8e1420cf9",
   "metadata": {},
   "outputs": [],
   "source": [
    "import stardog\n",
    "from pathlib import Path\n",
    "import pprint\n",
    "import pandas as pd\n",
    "from configparser import ConfigParser"
   ]
  },
  {
   "cell_type": "code",
   "execution_count": 32,
   "id": "9334696b-2485-4ce4-a831-5a58ebce7456",
   "metadata": {},
   "outputs": [],
   "source": [
    "# Get credentials from file\n",
    "# file contains DEFAULT section plus override sections\n",
    "# config_section = 'doghouse'\n",
    "config_section = 'doghouse'\n",
    "parser = ConfigParser()\n",
    "_ = parser.read('../CREDENTIALS.config')\n",
    "\n",
    "url = parser.get(config_section, 'url')\n",
    "user = parser.get(config_section, 'user')\n",
    "password = parser.get(config_section, 'password')\n",
    "db = 'gg-kit-flight'\n",
    "api_endpoint = 'query'"
   ]
  },
  {
   "cell_type": "code",
   "execution_count": null,
   "id": "cb2462ab-9945-40a8-babd-94ec92fb2a23",
   "metadata": {},
   "outputs": [],
   "source": [
    "# url+\"/looney-tunes/query/\""
   ]
  },
  {
   "cell_type": "code",
   "execution_count": 33,
   "id": "5af4843a-0e3a-4d59-afaf-dfd2404da945",
   "metadata": {},
   "outputs": [],
   "source": [
    "conn_details = { 'endpoint': url, 'username': user, 'password': password}"
   ]
  },
  {
   "cell_type": "code",
   "execution_count": 35,
   "id": "c59a84b9-300c-4695-96ec-39cda82ae3a5",
   "metadata": {},
   "outputs": [],
   "source": [
    "with stardog.Connection(database=db, **conn_details) as conn:\n",
    "    gort = conn.select(\"\"\"\n",
    "    select distinct ?aircraftTypeName\n",
    "{\n",
    "    ?aircraftType a :Aircraft_Type ; \n",
    "                  :aircraft_type_name ?aircraftTypeName\n",
    "\n",
    "}\n",
    "LIMIT 10\n",
    "    \"\"\", \n",
    "    content_type='text/csv')\n"
   ]
  },
  {
   "cell_type": "code",
   "execution_count": 36,
   "id": "2b083aa1-41a9-4fc9-9cbb-d2e6079df127",
   "metadata": {},
   "outputs": [
    {
     "name": "stdout",
     "output_type": "stream",
     "text": [
      "aircraftTypeName\n",
      "Aerospatiale (Nord) 262\n",
      "Aerospatiale (Sud Aviation) Se.210 Caravelle\n",
      "Aerospatiale SN.601 Corvette\n",
      "Aerospatiale/Alenia ATR 42-300\n",
      "Aerospatiale/Alenia ATR 42-500\n",
      "Aerospatiale/Alenia ATR 42-600\n",
      "Aerospatiale/Alenia ATR 72\n",
      "Airbus A300\n",
      "Airbus A300-600\n",
      "Airbus A300-600ST Super Transporter / Beluga\n",
      "\n"
     ]
    }
   ],
   "source": [
    "print(gort.decode())\n"
   ]
  },
  {
   "cell_type": "code",
   "execution_count": null,
   "id": "81ec9afc-d2f0-4e52-a0f2-ca4e1bba7979",
   "metadata": {
    "scrolled": true
   },
   "outputs": [],
   "source": [
    "# pd.DataFrame.from_dict(data=gort,orient='index')"
   ]
  },
  {
   "cell_type": "code",
   "execution_count": null,
   "id": "4853b9d5-6b0a-440b-becb-7abe446052b4",
   "metadata": {},
   "outputs": [],
   "source": [
    "print(gort)"
   ]
  },
  {
   "cell_type": "code",
   "execution_count": 37,
   "id": "f8b8abf4-d1c4-4455-bd08-89756b632809",
   "metadata": {},
   "outputs": [],
   "source": [
    "with stardog.Connection('gg-kit-flight', **conn_details) as conn:\n",
    "    gort = conn.select(\"select * WHERE { ?s ?p ?o } LIMIT 4\")"
   ]
  },
  {
   "cell_type": "code",
   "execution_count": 38,
   "id": "2e196d27-3a1b-4d59-b895-485b659717b0",
   "metadata": {},
   "outputs": [
    {
     "data": {
      "text/plain": [
       "{'p': {'type': 'uri', 'value': 'http://www.w3.org/ns/prov#wasAttributedTo'},\n",
       " 's': {'type': 'uri', 'value': 'default:flight_planning:1.0:model'},\n",
       " 'o': {'type': 'uri',\n",
       "  'value': 'urn:agent:d033e22ae348aeb5660fc2140aec35850c4da997'}}"
      ]
     },
     "execution_count": 38,
     "metadata": {},
     "output_type": "execute_result"
    }
   ],
   "source": [
    "gort['results']['bindings'][0]\n"
   ]
  },
  {
   "cell_type": "code",
   "execution_count": 39,
   "id": "1168f58a-f74f-4c6b-8f01-5a3ea82aaf02",
   "metadata": {},
   "outputs": [
    {
     "data": {
      "text/html": [
       "<div>\n",
       "<style scoped>\n",
       "    .dataframe tbody tr th:only-of-type {\n",
       "        vertical-align: middle;\n",
       "    }\n",
       "\n",
       "    .dataframe tbody tr th {\n",
       "        vertical-align: top;\n",
       "    }\n",
       "\n",
       "    .dataframe thead th {\n",
       "        text-align: right;\n",
       "    }\n",
       "</style>\n",
       "<table border=\"1\" class=\"dataframe\">\n",
       "  <thead>\n",
       "    <tr style=\"text-align: right;\">\n",
       "      <th></th>\n",
       "      <th>p</th>\n",
       "      <th>s</th>\n",
       "      <th>o</th>\n",
       "    </tr>\n",
       "  </thead>\n",
       "  <tbody>\n",
       "    <tr>\n",
       "      <th>0</th>\n",
       "      <td>{'type': 'uri', 'value': 'http://www.w3.org/ns...</td>\n",
       "      <td>{'type': 'uri', 'value': 'default:flight_plann...</td>\n",
       "      <td>{'type': 'uri', 'value': 'urn:agent:d033e22ae3...</td>\n",
       "    </tr>\n",
       "    <tr>\n",
       "      <th>1</th>\n",
       "      <td>{'type': 'uri', 'value': 'http://www.w3.org/ns...</td>\n",
       "      <td>{'type': 'uri', 'value': 'default:flight_plann...</td>\n",
       "      <td>{'type': 'uri', 'value': 'urn:agent:d033e22ae3...</td>\n",
       "    </tr>\n",
       "    <tr>\n",
       "      <th>2</th>\n",
       "      <td>{'type': 'uri', 'value': 'http://www.w3.org/ns...</td>\n",
       "      <td>{'type': 'uri', 'value': 'default:flight_plann...</td>\n",
       "      <td>{'type': 'uri', 'value': 'urn:agent:d033e22ae3...</td>\n",
       "    </tr>\n",
       "    <tr>\n",
       "      <th>3</th>\n",
       "      <td>{'type': 'uri', 'value': 'http://www.w3.org/ns...</td>\n",
       "      <td>{'type': 'uri', 'value': 'urn:uuid:4c104811-e6...</td>\n",
       "      <td>{'type': 'uri', 'value': 'urn:agent:d033e22ae3...</td>\n",
       "    </tr>\n",
       "  </tbody>\n",
       "</table>\n",
       "</div>"
      ],
      "text/plain": [
       "                                                   p  \\\n",
       "0  {'type': 'uri', 'value': 'http://www.w3.org/ns...   \n",
       "1  {'type': 'uri', 'value': 'http://www.w3.org/ns...   \n",
       "2  {'type': 'uri', 'value': 'http://www.w3.org/ns...   \n",
       "3  {'type': 'uri', 'value': 'http://www.w3.org/ns...   \n",
       "\n",
       "                                                   s  \\\n",
       "0  {'type': 'uri', 'value': 'default:flight_plann...   \n",
       "1  {'type': 'uri', 'value': 'default:flight_plann...   \n",
       "2  {'type': 'uri', 'value': 'default:flight_plann...   \n",
       "3  {'type': 'uri', 'value': 'urn:uuid:4c104811-e6...   \n",
       "\n",
       "                                                   o  \n",
       "0  {'type': 'uri', 'value': 'urn:agent:d033e22ae3...  \n",
       "1  {'type': 'uri', 'value': 'urn:agent:d033e22ae3...  \n",
       "2  {'type': 'uri', 'value': 'urn:agent:d033e22ae3...  \n",
       "3  {'type': 'uri', 'value': 'urn:agent:d033e22ae3...  "
      ]
     },
     "execution_count": 39,
     "metadata": {},
     "output_type": "execute_result"
    }
   ],
   "source": [
    "pd.DataFrame.from_dict(gort['results']['bindings'])"
   ]
  },
  {
   "cell_type": "code",
   "execution_count": null,
   "id": "8ffad8ba-2795-4c6d-a8ef-746cc73eb98a",
   "metadata": {},
   "outputs": [],
   "source": []
  }
 ],
 "metadata": {
  "kernelspec": {
   "display_name": "Python 3 (ipykernel)",
   "language": "python",
   "name": "python3"
  },
  "language_info": {
   "codemirror_mode": {
    "name": "ipython",
    "version": 3
   },
   "file_extension": ".py",
   "mimetype": "text/x-python",
   "name": "python",
   "nbconvert_exporter": "python",
   "pygments_lexer": "ipython3",
   "version": "3.11.6"
  }
 },
 "nbformat": 4,
 "nbformat_minor": 5
}
